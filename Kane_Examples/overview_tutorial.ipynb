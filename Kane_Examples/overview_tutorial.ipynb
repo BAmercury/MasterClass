{
 "cells": [
  {
   "cell_type": "code",
   "execution_count": null,
   "metadata": {},
   "outputs": [],
   "source": [
    "from sympy.physics.mechanics import *\n",
    "from sympy import symbols, trigsimp\n",
    "from numpy import deg2rad, rad2deg, array, zeros, linspace, pi\n",
    "from scipy.integrate import odeint\n",
    "\n",
    "from pydy.codegen.ode_function_generators import generate_ode_function\n",
    "\n",
    "from sympy.physics.vector import init_vprinting"
   ]
  },
  {
   "cell_type": "markdown",
   "metadata": {},
   "source": [
    "Following tutorial: https://onlinelibrary.wiley.com/doi/epdf/10.1002/cae.22438?af=R"
   ]
  },
  {
   "cell_type": "code",
   "execution_count": null,
   "metadata": {},
   "outputs": [],
   "source": [
    "# Initialize symbolic variables\n",
    "L, m, g, a, M, c1, c2, Ia, Ib = symbols('L m g a M c1 c2 Ia Ib')\n",
    "# L, a, c1, c2 are lengths and coordinates\n",
    "# g is acceleration due to gravity\n",
    "# m and M are masses\n",
    "# Ia and Ib are moments of inertia\n",
    "\n",
    "# Describe Kinematics/Configuration space of the system\n",
    "theta, phi = dynamicsymbols('theta phi') # declare them as dynamic symbols because they are time-dependent variables\n",
    "theta_d, phi_d = dynamicsymbols('theta phi', 1)\n",
    "\n",
    "# Specify angular velocities and accelerations\n",
    "omega_1, omega_2 = dynamicsymbols('omega_1 omega_2')\n",
    "omega_1_d, omega_2_d = dynamicsymbols('omega_1 omega_2', 1)\n",
    "\n",
    "# Define reference frames\n",
    "N = ReferenceFrame('N') # inertial reference frame\n",
    "# Define a rotating body-fixed frame, define it with respect to frame N\n",
    "A = N.orientnew('A', 'Axis', [theta, N.z])\n",
    "# A.x, A.y, A.z are the unit vectors along x, y, and z axes\n",
    "\n",
    "\n"
   ]
  }
 ],
 "metadata": {
  "kernelspec": {
   "display_name": "Python 3",
   "language": "python",
   "name": "python3"
  },
  "language_info": {
   "name": "python",
   "version": "3.6.1"
  },
  "orig_nbformat": 4
 },
 "nbformat": 4,
 "nbformat_minor": 2
}
