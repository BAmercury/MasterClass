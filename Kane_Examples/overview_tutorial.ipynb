{
 "cells": [
  {
   "cell_type": "code",
   "execution_count": 2,
   "metadata": {},
   "outputs": [],
   "source": [
    "from sympy.physics.mechanics import *\n",
    "from sympy import symbols, trigsimp\n",
    "from numpy import deg2rad, rad2deg, array, zeros, linspace, pi\n",
    "from scipy.integrate import odeint\n",
    "\n",
    "from pydy.codegen.ode_function_generators import generate_ode_function\n",
    "\n",
    "from sympy.physics.vector import init_vprinting\n",
    "import matplotlib.pyplot as plt"
   ]
  },
  {
   "cell_type": "markdown",
   "metadata": {},
   "source": [
    "### Overview of how to use sympy and PyDy:\n",
    "Following tutorial: https://onlinelibrary.wiley.com/doi/epdf/10.1002/cae.22438?af=R\n",
    "\n",
    "Kane's Method Roadmap:\n",
    "- Define generalized coordinates/speeds\n",
    "- For each rigid body B, find w_b_n and v_b_n\n",
    "- Find partial velocities for each degree of freedom (v_r_n_b, w_r_n_b)\n",
    "- Find expression for acceleration for each rigid body\n",
    "- Find active torques/forces acting on each body\n",
    "- Assemble Newton's/Euler's equations (F-ma = 0) for each rigid body\n",
    "- For each generalized speed, project into its direction and sum\n"
   ]
  },
  {
   "cell_type": "code",
   "execution_count": 3,
   "metadata": {},
   "outputs": [],
   "source": [
    "# # The system is a series of bodies chained together \n",
    "# # Initialize symbolic variables\n",
    "# L, m, g, a, M, c1, c2, Ia, Ib = symbols('L m g a M c1 c2 Ia Ib')\n",
    "# # L, a, c1, c2 are lengths and coordinates\n",
    "# # g is acceleration due to gravity\n",
    "# # m and M are masses\n",
    "# # Ia and Ib are moments of inertia\n",
    "\n",
    "# # Describe Kinematics/Configuration space of the system\n",
    "# theta, phi = dynamicsymbols('theta phi') # declare them as dynamic symbols because they are time-dependent variables\n",
    "# theta_d, phi_d = dynamicsymbols('theta phi', 1)\n",
    "\n",
    "# # Specify angular velocities and accelerations\n",
    "# omega_1, omega_2 = dynamicsymbols('omega_1 omega_2')\n",
    "# omega_1_d, omega_2_d = dynamicsymbols('omega_1 omega_2', 1)\n",
    "\n",
    "# # Define reference frames\n",
    "# N = ReferenceFrame('N') # inertial reference frame\n",
    "# # Define a rotating body-fixed frame, define it with respect to frame N\n",
    "# A = N.orientnew('A', 'Axis', [theta, N.z])\n",
    "# # A.x, A.y, A.z are the unit vectors along x, y, and z axes\n",
    "# # Define a B axis as well, described with respect to A\n",
    "# # B is fixed to the second constituent body of the chain\n",
    "# B = A.orientnew('B', 'Axis', [phi, N.z])\n",
    "\n",
    "# # Angular velocity of the first constituent body is the angular velocity of the frame fixed to it\n",
    "# A.set_ang_vel(N, omega_L * N.z) # First argument N implies that the prescribed angular velocity is the angular velocity wrt inertial frame N\n",
    "\n",
    "# # Angular velocity of B\n",
    "# B.set_ang_vel(N, omega_P * N.z)\n",
    "\n",
    "# # Define locations (position vectors) and velocities of all significant points\n",
    "# # Points such as CoM, connections between two bodies, locations where external forces and moments are applied\n",
    "\n",
    "\n",
    "# # Origin of inertial frame N\n",
    "# O = Point('O')\n",
    "# # Position vector of any point R wrt point P\n",
    "# R = P.locatenew('R', -a*B.y) # to reach R from P, one has to move a distance 'a' in the opposite direction of the y coordinate axis of reference frame B\n",
    "\n",
    "# # Origin is a fixed point, velocity must be set to zero\n",
    "# O.set_vel(N, 0)\n",
    "\n",
    "# # velocities of other points can be set using v2pt_theory\n",
    "# P.v2pt_theory(O, N, A) # abs vel of point P is the velocity of point O plus velocity of point P wrt point O. \n",
    "# # Points P and O are connected by the body-fixed frame A\n",
    "# # When the second argument is present (N) and is the inertial ref frame, the computed velocity is the absolute one\n",
    "\n",
    "# # To specify system constraints (if any)\n",
    "# # sympy mechanics automatically models hinges when a point of contact of two rigid bodies in a chain is specified\n",
    "\n",
    "# zero = Q.pos_from(O) + O.pos_from(R) # vector equation\n",
    "# q_cons = [zero & N.x, zero & N.y] # configuration constraints, & operator carries out dot product operation\n",
    "# dzero = time_derivative(zero, N) # time derivative of given vector equation\n",
    "# u_cons = [dzero & N.x, dzero & N.y] # velocity constraints\n",
    "\n",
    "# # To declare Kane's Method object\n",
    "\n",
    "# # List generalized coordinates\n",
    "# # Linear and angular speeds\n",
    "# # Relations between actual speeds\n",
    "# # Generalized speeds\n",
    "\n",
    "# # The system has two generalized coordinates (theta and phi)\n",
    "# # Two generalized speeds (theta_d, phi_d)\n",
    "# # Angular speeds of the body-fixed frames are omega_L and omega_P\n",
    "# coordinates = [theta, phi]\n",
    "# speeds = [omega_L, omega_P]\n",
    "\n",
    "# # Kinematic Differential Equations\n",
    "# # omega_L - theta_d = 0\n",
    "# # omega_P - phi_d = 0\n",
    "# kde = [omega_L - theta_d, omega_P - phi_d]\n",
    "\n",
    "# # Initialize Kane's object\n",
    "# kane = KanesMethod(N, coordinates, speeds, kde)\n",
    "\n",
    "# # To define objects for all the particles and rigid bodies in the system along with mass and inertia\n",
    "# # Define all forces acting on the system and their points of application\n",
    "\n",
    "# # Rigid body mass and inertia\n",
    "# ita = inertia(A, 0, 0, Ia) # defined about a point in the body-fixed axis\n",
    "# i1 = (ita, G) # G is the point about which the moment of inertia is defined\n",
    "\n",
    "# Link1 = RigidBodY('Link1', G, A, m, i1) # Rigid body object\n",
    "# # CoM is at G, A is the body-fixed frame, m and i1 are the mass and moment of inertia\n",
    "\n",
    "# # to build up a multi-body system we can use a list as the object\n",
    "# Bodies = [Link1, Link2, Link3]\n",
    "\n",
    "# # Externelly applied forces\n",
    "# # represented as a tuple of the point of application and the force vector\n",
    "# F1 = (P, a*N.x + b*N.y) # force vector applied at point P\n",
    "# Forces = [F1, F2, F3]\n",
    "\n",
    "# # To obtain symbolic expressions for generalized active and inertia forces using kanes equations function\n",
    "# # Subsequently generate the mass matrix and forcing vector\n",
    "\n",
    "# fr, frstar = kanes.kanes_equations(Bodies, Forces)\n",
    "# trigsimp(fr + frstar)\n",
    "# # Mass matrix\n",
    "# mm = trigsimp(kane.mass_matrix_full)\n",
    "# fm = trigsimp(kane.forcing_full)\n",
    "\n",
    "# # to simulate, generate RHS and integrate for results\n",
    "# # RHS is a vector that is a function of generalized coordinates, speeds, applied forces, and time\n",
    "# # Replace symbolic values with numerical ones\n",
    "# constants = [L, c1, m, Ia, a, c2, M, Ib, g]\n",
    "# # Generate ODE function \n",
    "# rhs = generate_ode_function(fm, coordinates, speeds, constants, mass_matrix = mm)\n",
    "# # Initial conditions \n",
    "# x0 = zeros(4)\n",
    "# # numerical values 1:1 with the symbolic constants list\n",
    "# numerical_constants = array([12, 6, 0, 0, 6, 3, 10, 60, 9.81])\n",
    "\n",
    "# rhs(x0, 0.0, numerical_constants)\n",
    "# t = linspace(0, 50, 1000)\n",
    "\n",
    "# y = odeint(rhs, x0, t, args=(numerical_constants))\n",
    "\n",
    "\n"
   ]
  },
  {
   "cell_type": "markdown",
   "metadata": {},
   "source": [
    "###  Example 1: Square plate suspended from a fixed support by the means of 2 springs and two adjacent vertices\n",
    "\n",
    "One of the strings is cut instantaneously without any change in the configurations of the other components in the system\n",
    "\n",
    "The objective is to simulate the motion that the plate will exhibit when one of the strings is cut\n",
    "\n",
    "![Example 1 Image](imgs/example1.PNG)\n",
    "\n",
    "\n",
    "Some notes about the system:\n",
    "- Tension in the string will always be positive and string will remain taut (Can treat string as a rigid link)\n",
    "- Will assume this as a massless link/string\n",
    "- Joints considered frictionless\n"
   ]
  },
  {
   "cell_type": "code",
   "execution_count": 34,
   "metadata": {},
   "outputs": [
    {
     "data": {
      "text/latex": [
       "$\\displaystyle \\left[\\begin{matrix}- I_{A} \\frac{d}{d t} \\omega_{L}{\\left(t \\right)} - L^{2} M \\frac{d}{d t} \\omega_{L}{\\left(t \\right)} + \\sqrt{2} L M c_{2} \\omega_{P}^{2}{\\left(t \\right)} \\sin{\\left(\\phi{\\left(t \\right)} + \\frac{\\pi}{4} \\right)} - \\sqrt{2} L M c_{2} \\cos{\\left(\\phi{\\left(t \\right)} + \\frac{\\pi}{4} \\right)} \\frac{d}{d t} \\omega_{P}{\\left(t \\right)} - L M g \\sin{\\left(\\theta{\\left(t \\right)} \\right)} - c_{1}^{2} m \\frac{d}{d t} \\omega_{L}{\\left(t \\right)} - c_{1} g m \\sin{\\left(\\theta{\\left(t \\right)} \\right)}\\\\- I_{B} \\frac{d}{d t} \\omega_{P}{\\left(t \\right)} - \\sqrt{2} L M c_{2} \\omega_{L}^{2}{\\left(t \\right)} \\sin{\\left(\\phi{\\left(t \\right)} + \\frac{\\pi}{4} \\right)} - \\sqrt{2} L M c_{2} \\cos{\\left(\\phi{\\left(t \\right)} + \\frac{\\pi}{4} \\right)} \\frac{d}{d t} \\omega_{L}{\\left(t \\right)} - 2 M c_{2}^{2} \\frac{d}{d t} \\omega_{P}{\\left(t \\right)} - \\sqrt{2} M c_{2} g \\sin{\\left(\\phi{\\left(t \\right)} + \\theta{\\left(t \\right)} + \\frac{\\pi}{4} \\right)}\\end{matrix}\\right]$"
      ],
      "text/plain": [
       "Matrix([\n",
       "[-I_A*Derivative(omega_L(t), t) - L**2*M*Derivative(omega_L(t), t) + sqrt(2)*L*M*c2*omega_P(t)**2*sin(phi(t) + pi/4) - sqrt(2)*L*M*c2*cos(phi(t) + pi/4)*Derivative(omega_P(t), t) - L*M*g*sin(theta(t)) - c1**2*m*Derivative(omega_L(t), t) - c1*g*m*sin(theta(t))],\n",
       "[                               -I_B*Derivative(omega_P(t), t) - sqrt(2)*L*M*c2*omega_L(t)**2*sin(phi(t) + pi/4) - sqrt(2)*L*M*c2*cos(phi(t) + pi/4)*Derivative(omega_L(t), t) - 2*M*c2**2*Derivative(omega_P(t), t) - sqrt(2)*M*c2*g*sin(phi(t) + theta(t) + pi/4)]])"
      ]
     },
     "execution_count": 34,
     "metadata": {},
     "output_type": "execute_result"
    }
   ],
   "source": [
    "# Define constants\n",
    "L, m, g, a, M, c1, c2, Ia, Ib = symbols('L m g a M c1 c2 Ia Ib')\n",
    "\n",
    "# Describe kinematic variables\n",
    "# Angles and their derivatives\n",
    "theta, phi = dynamicsymbols('theta phi') # declare them as dynamic symbols because they are time-dependent variables\n",
    "theta_d, phi_d = dynamicsymbols('theta phi', 1)\n",
    "\n",
    "# Define reference frames\n",
    "# Inertial\n",
    "N = ReferenceFrame('N')\n",
    "A = N.orientnew('A', 'Axis', [theta, N.z])\n",
    "B = A.orientnew('B', 'Axis', [phi, N.z])\n",
    "\n",
    "# set angular velocity of these frames \n",
    "\n",
    "# Generalized speeds\n",
    "omega_L, omega_P = dynamicsymbols('omega_L omega_P')\n",
    "omega_L_d, omega_P_d = dynamicsymbols('omega_L omega_P', 1)\n",
    "# w_g/n = theta_d * N.z\n",
    "A.set_ang_vel(N, omega_L * N.z)\n",
    "B.set_ang_vel(N, omega_P * N.z)\n",
    "\n",
    "# Define locations\n",
    "O = Point('O')\n",
    "\n",
    "P = O.locatenew('P', -L * A.y)\n",
    "G = O.locatenew('G', -c1 * A.y)\n",
    "C = P.locatenew('C', c2 * (B.x - B.y))\n",
    "R = P.locatenew('R', -a*B.y)\n",
    "\n",
    "# Now define point velocities \n",
    "O.set_vel(N, 0)\n",
    "G.v2pt_theory(O, N, A)\n",
    "P.v2pt_theory(O, N, A)\n",
    "C.v2pt_theory(P, N, B)\n",
    "R.v2pt_theory(P, N, B)\n",
    "# Gather everything into lists\n",
    "coordinates = [theta, phi]\n",
    "speeds = [omega_L, omega_P]\n",
    "\n",
    "# form kinematic differential equations\n",
    "kde = [omega_L - theta_d, omega_P - phi_d]\n",
    "\n",
    "# Initialize Kane's object\n",
    "kane = KanesMethod(N, coordinates, speeds, kde)\n",
    "\n",
    "# Inertia dynamics\n",
    "Ia, Ib = symbols('I_A I_B')\n",
    "\n",
    "ita = inertia(A, 0, 0, Ia)\n",
    "itb = inertia(B, 0, 0, Ib)\n",
    "\n",
    "i1 = (ita, G)\n",
    "i2 = (itb, C)\n",
    "\n",
    "# Define rigid body objects\n",
    "link = RigidBody('Link', G, A, m, i1)\n",
    "plate = RigidBody('Plate', C, B, M, i2)\n",
    "\n",
    "# Define forces and point of application\n",
    "\n",
    "# Gravity on each rigid body\n",
    "mg = (G, -m*g*N.y)\n",
    "Mg = (C, -M*g*N.y)\n",
    "loads = [mg, Mg]\n",
    "bodies = [link, plate]\n",
    "\n",
    "# Get equations\n",
    "fr, frstar = kane.kanes_equations(bodies, loads)\n",
    "trigsimp(fr + frstar)\n",
    "\n",
    "\n",
    "\n"
   ]
  },
  {
   "cell_type": "code",
   "execution_count": 36,
   "metadata": {},
   "outputs": [
    {
     "data": {
      "text/latex": [
       "$\\displaystyle L \\sin{\\left(\\theta{\\left(t \\right)} \\right)} + \\sqrt{2} c_{2} \\sin{\\left(\\phi{\\left(t \\right)} + \\theta{\\left(t \\right)} + \\frac{\\pi}{4} \\right)}$"
      ],
      "text/plain": [
       "L*sin(theta(t)) + sqrt(2)*c2*sin(phi(t) + theta(t) + pi/4)"
      ]
     },
     "execution_count": 36,
     "metadata": {},
     "output_type": "execute_result"
    }
   ],
   "source": [
    "trigsimp(C.pos_from(O) & N.x)"
   ]
  },
  {
   "cell_type": "code",
   "execution_count": 38,
   "metadata": {},
   "outputs": [
    {
     "data": {
      "text/latex": [
       "$\\displaystyle - L \\cos{\\left(\\theta{\\left(t \\right)} \\right)} - \\sqrt{2} c_{2} \\cos{\\left(\\phi{\\left(t \\right)} + \\theta{\\left(t \\right)} + \\frac{\\pi}{4} \\right)}$"
      ],
      "text/plain": [
       "-L*cos(theta(t)) - sqrt(2)*c2*cos(phi(t) + theta(t) + pi/4)"
      ]
     },
     "execution_count": 38,
     "metadata": {},
     "output_type": "execute_result"
    }
   ],
   "source": [
    "trigsimp(C.pos_from(O) & N.y)"
   ]
  },
  {
   "cell_type": "code",
   "execution_count": 41,
   "metadata": {},
   "outputs": [
    {
     "data": {
      "text/plain": [
       "<matplotlib.legend.Legend at 0x190375dd860>"
      ]
     },
     "execution_count": 41,
     "metadata": {},
     "output_type": "execute_result"
    },
    {
     "data": {
      "image/png": "[encoded data removed]",
      "text/plain": [
       "<Figure size 432x288 with 1 Axes>"
      ]
     },
     "metadata": {
      "needs_background": "light"
     },
     "output_type": "display_data"
    }
   ],
   "source": [
    "# Obtain mass matrix and forcing vector\n",
    "mm = trigsimp(kane.mass_matrix_full)\n",
    "fm = trigsimp(kane.forcing_full)\n",
    "\n",
    "# List of all constants\n",
    "constants = [L, c1, m, Ia, a, c2, M, Ib, g]\n",
    "numerical_constants = array([12, 6, 0, 0, 6, 3, 10, 60, 9.81])\n",
    "\n",
    "# Generate RHS\n",
    "rhs = generate_ode_function(fm, coordinates, speeds, constants, mass_matrix = mm)\n",
    "\n",
    "# Define initial conditions\n",
    "x0 = zeros(4)\n",
    "# Time\n",
    "t = linspace(0, 50, 1000)\n",
    "\n",
    "rhs(x0, 0.0, numerical_constants)\n",
    "\n",
    "y = odeint(rhs, x0, t, args=(numerical_constants, ))\n",
    "\n",
    "plt.plot(t, rad2deg(y[:,:2])) # first two columns of y contain theta and phi\n",
    "plt.xlabel('Time [sec]')\n",
    "plt.ylabel('Angle [deg]')\n",
    "plt.legend([\"{}\".format(vlatex(c)) for c in gen_coordinates])"
   ]
  },
  {
   "cell_type": "code",
   "execution_count": 47,
   "metadata": {},
   "outputs": [
    {
     "ename": "ValueError",
     "evalue": "No connecting orientation path found between A and Nframe.",
     "output_type": "error",
     "traceback": [
      "\u001b[1;31m---------------------------------------------------------------------------\u001b[0m",
      "\u001b[1;31mValueError\u001b[0m                                Traceback (most recent call last)",
      "\u001b[1;32m<ipython-input-47-61b244718864>\u001b[0m in \u001b[0;36m<module>\u001b[1;34m\u001b[0m\n\u001b[0;32m     21\u001b[0m \u001b[0mscene\u001b[0m\u001b[1;33m.\u001b[0m\u001b[0mtimes\u001b[0m \u001b[1;33m=\u001b[0m \u001b[0mt\u001b[0m\u001b[1;33m\u001b[0m\u001b[0m\n\u001b[0;32m     22\u001b[0m \u001b[1;33m\u001b[0m\u001b[0m\n\u001b[1;32m---> 23\u001b[1;33m \u001b[0mscene\u001b[0m\u001b[1;33m.\u001b[0m\u001b[0mdisplay_jupyter\u001b[0m\u001b[1;33m(\u001b[0m\u001b[0maxes_arrow_length\u001b[0m\u001b[1;33m=\u001b[0m\u001b[1;36m5.0\u001b[0m\u001b[1;33m)\u001b[0m\u001b[1;33m\u001b[0m\u001b[0m\n\u001b[0m\u001b[0;32m     24\u001b[0m \u001b[1;31m#scene.display()\u001b[0m\u001b[1;33m\u001b[0m\u001b[1;33m\u001b[0m\u001b[0m\n\u001b[0;32m     25\u001b[0m \u001b[1;31m#scene.display_jupyter(axes_arrow_length=None)\u001b[0m\u001b[1;33m\u001b[0m\u001b[1;33m\u001b[0m\u001b[0m\n",
      "\u001b[1;32m~\\AppData\\Roaming\\Python\\Python36\\site-packages\\pydy\\viz\\scene.py\u001b[0m in \u001b[0;36mdisplay_jupyter\u001b[1;34m(self, window_size, axes_arrow_length)\u001b[0m\n\u001b[0;32m    495\u001b[0m             \u001b[1;32mraise\u001b[0m \u001b[0mImportError\u001b[0m\u001b[1;33m(\u001b[0m\u001b[1;34m'pythreejs needs to be installed.'\u001b[0m\u001b[1;33m)\u001b[0m\u001b[1;33m\u001b[0m\u001b[0m\n\u001b[0;32m    496\u001b[0m \u001b[1;33m\u001b[0m\u001b[0m\n\u001b[1;32m--> 497\u001b[1;33m         \u001b[0mself\u001b[0m\u001b[1;33m.\u001b[0m\u001b[0m_generate_meshes_tracks\u001b[0m\u001b[1;33m(\u001b[0m\u001b[1;33m)\u001b[0m\u001b[1;33m\u001b[0m\u001b[0m\n\u001b[0m\u001b[0;32m    498\u001b[0m \u001b[1;33m\u001b[0m\u001b[0m\n\u001b[0;32m    499\u001b[0m         \u001b[0mview_width\u001b[0m \u001b[1;33m=\u001b[0m \u001b[0mwindow_size\u001b[0m\u001b[1;33m[\u001b[0m\u001b[1;36m0\u001b[0m\u001b[1;33m]\u001b[0m\u001b[1;33m\u001b[0m\u001b[0m\n",
      "\u001b[1;32m~\\AppData\\Roaming\\Python\\Python36\\site-packages\\pydy\\viz\\scene.py\u001b[0m in \u001b[0;36m_generate_meshes_tracks\u001b[1;34m(self)\u001b[0m\n\u001b[0;32m    462\u001b[0m         \u001b[1;32mfor\u001b[0m \u001b[0mvizframe\u001b[0m \u001b[1;32min\u001b[0m \u001b[0mself\u001b[0m\u001b[1;33m.\u001b[0m\u001b[0mvisualization_frames\u001b[0m\u001b[1;33m:\u001b[0m\u001b[1;33m\u001b[0m\u001b[0m\n\u001b[0;32m    463\u001b[0m             vizframe.generate_transformation_matrix(self.reference_frame,\n\u001b[1;32m--> 464\u001b[1;33m                                                     self.origin)\n\u001b[0m\u001b[0;32m    465\u001b[0m             vizframe.generate_numeric_transform_function(self.states_symbols,\n\u001b[0;32m    466\u001b[0m                                                          self.constants.keys())\n",
      "\u001b[1;32m~\\AppData\\Roaming\\Python\\Python36\\site-packages\\pydy\\viz\\visualization_frame.py\u001b[0m in \u001b[0;36mgenerate_transformation_matrix\u001b[1;34m(self, reference_frame, point)\u001b[0m\n\u001b[0;32m    230\u001b[0m \u001b[1;33m\u001b[0m\u001b[0m\n\u001b[0;32m    231\u001b[0m         \"\"\"\n\u001b[1;32m--> 232\u001b[1;33m         \u001b[0mrotation_matrix\u001b[0m \u001b[1;33m=\u001b[0m \u001b[0mself\u001b[0m\u001b[1;33m.\u001b[0m\u001b[0mreference_frame\u001b[0m\u001b[1;33m.\u001b[0m\u001b[0mdcm\u001b[0m\u001b[1;33m(\u001b[0m\u001b[0mreference_frame\u001b[0m\u001b[1;33m)\u001b[0m\u001b[1;33m\u001b[0m\u001b[0m\n\u001b[0m\u001b[0;32m    233\u001b[0m         \u001b[0mself\u001b[0m\u001b[1;33m.\u001b[0m\u001b[0m_transform\u001b[0m \u001b[1;33m=\u001b[0m \u001b[0mIdentity\u001b[0m\u001b[1;33m(\u001b[0m\u001b[1;36m4\u001b[0m\u001b[1;33m)\u001b[0m\u001b[1;33m.\u001b[0m\u001b[0mas_mutable\u001b[0m\u001b[1;33m(\u001b[0m\u001b[1;33m)\u001b[0m\u001b[1;33m\u001b[0m\u001b[0m\n\u001b[0;32m    234\u001b[0m         \u001b[0mself\u001b[0m\u001b[1;33m.\u001b[0m\u001b[0m_transform\u001b[0m\u001b[1;33m[\u001b[0m\u001b[1;33m:\u001b[0m\u001b[1;36m3\u001b[0m\u001b[1;33m,\u001b[0m \u001b[1;33m:\u001b[0m\u001b[1;36m3\u001b[0m\u001b[1;33m]\u001b[0m \u001b[1;33m=\u001b[0m \u001b[0mrotation_matrix\u001b[0m\u001b[1;33m\u001b[0m\u001b[0m\n",
      "\u001b[1;32m~\\AppData\\Roaming\\Python\\Python36\\site-packages\\sympy\\physics\\vector\\frame.py\u001b[0m in \u001b[0;36mdcm\u001b[1;34m(self, otherframe)\u001b[0m\n\u001b[0;32m    521\u001b[0m         \u001b[1;32mif\u001b[0m \u001b[0motherframe\u001b[0m \u001b[1;32min\u001b[0m \u001b[0mself\u001b[0m\u001b[1;33m.\u001b[0m\u001b[0m_dcm_cache\u001b[0m\u001b[1;33m:\u001b[0m\u001b[1;33m\u001b[0m\u001b[0m\n\u001b[0;32m    522\u001b[0m             \u001b[1;32mreturn\u001b[0m \u001b[0mself\u001b[0m\u001b[1;33m.\u001b[0m\u001b[0m_dcm_cache\u001b[0m\u001b[1;33m[\u001b[0m\u001b[0motherframe\u001b[0m\u001b[1;33m]\u001b[0m\u001b[1;33m\u001b[0m\u001b[0m\n\u001b[1;32m--> 523\u001b[1;33m         \u001b[0mflist\u001b[0m \u001b[1;33m=\u001b[0m \u001b[0mself\u001b[0m\u001b[1;33m.\u001b[0m\u001b[0m_dict_list\u001b[0m\u001b[1;33m(\u001b[0m\u001b[0motherframe\u001b[0m\u001b[1;33m,\u001b[0m \u001b[1;36m0\u001b[0m\u001b[1;33m)\u001b[0m\u001b[1;33m\u001b[0m\u001b[0m\n\u001b[0m\u001b[0;32m    524\u001b[0m         \u001b[0moutdcm\u001b[0m \u001b[1;33m=\u001b[0m \u001b[0meye\u001b[0m\u001b[1;33m(\u001b[0m\u001b[1;36m3\u001b[0m\u001b[1;33m)\u001b[0m\u001b[1;33m\u001b[0m\u001b[0m\n\u001b[0;32m    525\u001b[0m         \u001b[1;32mfor\u001b[0m \u001b[0mi\u001b[0m \u001b[1;32min\u001b[0m \u001b[0mrange\u001b[0m\u001b[1;33m(\u001b[0m\u001b[0mlen\u001b[0m\u001b[1;33m(\u001b[0m\u001b[0mflist\u001b[0m\u001b[1;33m)\u001b[0m \u001b[1;33m-\u001b[0m \u001b[1;36m1\u001b[0m\u001b[1;33m)\u001b[0m\u001b[1;33m:\u001b[0m\u001b[1;33m\u001b[0m\u001b[0m\n",
      "\u001b[1;32m~\\AppData\\Roaming\\Python\\Python36\\site-packages\\sympy\\physics\\vector\\frame.py\u001b[0m in \u001b[0;36m_dict_list\u001b[1;34m(self, other, num)\u001b[0m\n\u001b[0;32m    322\u001b[0m \u001b[1;33m\u001b[0m\u001b[0m\n\u001b[0;32m    323\u001b[0m         \u001b[0mmsg\u001b[0m \u001b[1;33m=\u001b[0m \u001b[1;34m'No connecting {} path found between {} and {}.'\u001b[0m\u001b[1;33m\u001b[0m\u001b[0m\n\u001b[1;32m--> 324\u001b[1;33m         \u001b[1;32mraise\u001b[0m \u001b[0mValueError\u001b[0m\u001b[1;33m(\u001b[0m\u001b[0mmsg\u001b[0m\u001b[1;33m.\u001b[0m\u001b[0mformat\u001b[0m\u001b[1;33m(\u001b[0m\u001b[0mconnect_type\u001b[0m\u001b[1;33m[\u001b[0m\u001b[0mnum\u001b[0m\u001b[1;33m]\u001b[0m\u001b[1;33m,\u001b[0m \u001b[0mself\u001b[0m\u001b[1;33m.\u001b[0m\u001b[0mname\u001b[0m\u001b[1;33m,\u001b[0m \u001b[0mother\u001b[0m\u001b[1;33m.\u001b[0m\u001b[0mname\u001b[0m\u001b[1;33m)\u001b[0m\u001b[1;33m)\u001b[0m\u001b[1;33m\u001b[0m\u001b[0m\n\u001b[0m\u001b[0;32m    325\u001b[0m \u001b[1;33m\u001b[0m\u001b[0m\n\u001b[0;32m    326\u001b[0m     \u001b[1;32mdef\u001b[0m \u001b[0m_w_diff_dcm\u001b[0m\u001b[1;33m(\u001b[0m\u001b[0mself\u001b[0m\u001b[1;33m,\u001b[0m \u001b[0motherframe\u001b[0m\u001b[1;33m)\u001b[0m\u001b[1;33m:\u001b[0m\u001b[1;33m\u001b[0m\u001b[0m\n",
      "\u001b[1;31mValueError\u001b[0m: No connecting orientation path found between A and Nframe."
     ]
    }
   ],
   "source": [
    "# 3D Vs\n",
    "from pydy.viz.shapes import Cylinder, Cube\n",
    "import pydy.viz\n",
    "from pydy.viz.visualization_frame import VisualizationFrame\n",
    "import pydy.viz.scene\n",
    "from pydy.viz.scene import Scene\n",
    "import pythreejs\n",
    "\n",
    "constants_dict = dict(zip(constants, numerical_constants))\n",
    "\n",
    "link_shape = Cylinder(name='LinkShape', length=constants_dict[L], radius = 0.1, color = 'gray')\n",
    "block_shape = Cube(name='BlockShape', length=constants_dict[a], color = 'blue')\n",
    "lvf = VisualizationFrame('Link', A, G, link_shape)\n",
    "cvf = VisualizationFrame('Block', B, C, block_shape)\n",
    "\n",
    "scene = Scene(N, O)\n",
    "scene.visualization_frames = [lvf, cvf]\n",
    "scene.states_symbols = coordinates + speeds\n",
    "scene.constants = constants_dict\n",
    "scene.states_trajectories = y\n",
    "scene.times = t\n",
    "\n",
    "scene.display_jupyter(axes_arrow_length=5.0)\n",
    "#scene.display()\n",
    "#scene.display_jupyter(axes_arrow_length=None)"
   ]
  }
 ],
 "metadata": {
  "kernelspec": {
   "display_name": "Python 3",
   "language": "python",
   "name": "python3"
  },
  "language_info": {
   "codemirror_mode": {
    "name": "ipython",
    "version": 3
   },
   "file_extension": ".py",
   "mimetype": "text/x-python",
   "name": "python",
   "nbconvert_exporter": "python",
   "pygments_lexer": "ipython3",
   "version": "3.6.1"
  }
 },
 "nbformat": 4,
 "nbformat_minor": 2
}
