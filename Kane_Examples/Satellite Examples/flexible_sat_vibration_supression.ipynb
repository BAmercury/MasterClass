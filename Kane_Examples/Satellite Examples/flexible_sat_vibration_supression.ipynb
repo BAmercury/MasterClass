{
 "cells": [
  {
   "cell_type": "code",
   "execution_count": 77,
   "metadata": {},
   "outputs": [],
   "source": [
    "# Going off the work of https://ieeexplore.ieee.org/document/8613389"
   ]
  },
  {
   "cell_type": "markdown",
   "metadata": {},
   "source": [
    "Steps:\n",
    "\n",
    "1. Model Formulation (With flexible dynamics)\n",
    "2. Setup nonlinear equations and solver\n",
    "3. Design observer\n",
    "4. Composite controller design\n",
    "5. Numerical simulation\n",
    "\n",
    "Flexible modal frequency is assume to be: $\\Omega$ = 0.3 rad/s and damping of 0.005\n",
    "\n",
    "Moment of inertia in pitch axis is Iyy = 440 Kg*m^2\n",
    "\n",
    "Fy = 1.278\n",
    "\n",
    "Orbit:\n",
    "\n",
    "Altitude: 36000 Km\n",
    "\n",
    "Orbit rate: $\\omega$<sub>0</sub> = 7.292e-5 rad/s\n",
    "\n",
    "Disturbance torques:\n",
    "\n",
    "w<sub>y</sub> = 10e-4 * cos($\\omega$<sub>0</sub>t) Nm\n",
    "\n",
    "Observer details:\n",
    "\n",
    "Gain: ly = 2.85\n",
    "\n",
    "State feedback: [kp, kd] = 5, 40"
   ]
  },
  {
   "cell_type": "code",
   "execution_count": 1,
   "metadata": {},
   "outputs": [],
   "source": [
    "from sympy.physics.mechanics import *\n",
    "from sympy import symbols, trigsimp\n",
    "from numpy import deg2rad, rad2deg, array, zeros, linspace, pi\n",
    "from scipy.integrate import odeint\n",
    "from sympy.functions.elementary.trigonometric import sin, cos\n",
    "from sympy import Matrix\n",
    "from sympy import ones\n",
    "\n",
    "from pydy.codegen.ode_function_generators import generate_ode_function\n",
    "\n",
    "from sympy.physics.vector import init_vprinting\n",
    "import matplotlib.pyplot as plt\n"
   ]
  },
  {
   "cell_type": "code",
   "execution_count": 4,
   "metadata": {},
   "outputs": [],
   "source": [
    "# Define state vector\n",
    "\n",
    "theta = dynamicsymbols('theta')\n",
    "theta_d = dynamicsymbols('theta', 1)\n",
    "theta_dd = dynamicsymbols('theta_d', 1)\n",
    "\n",
    "# Define flexible dynamic states\n",
    "eta = dynamicsymbols('eta')\n",
    "eta_dot = dynamicsymbols('eta', 1)\n",
    "eta_dd = dynamicsymbols('eta_dot', 1)\n",
    "\n",
    "# Generalized speeds\n",
    "u1 = dynamicsymbols('u1')\n",
    "u1d = dynamicsymbols('u1', 1)\n",
    "\n",
    "# For eta_dot\n",
    "u2 = dynamicsymbols('u2')\n",
    "u2d = dynamicsymbols('u2', 1)\n",
    "\n",
    "# Reference Frames\n",
    "Nrf = ReferenceFrame('Nrf')\n",
    "Brf = Nrf.orientnew('Brf', 'Axis', [theta, Nrf.z])\n",
    "\n",
    "Brf.set_ang_vel(Nrf, 0*Brf.x + 0*Brf.y + u1*Brf.z)\n",
    "\n",
    "# Define locations\n",
    "O = Point('O')\n",
    "O.set_vel(Nrf, 0)\n",
    "\n",
    "# Gather everything into lists\n",
    "coordinates = [theta, eta]\n",
    "speeds = [u1, u2]\n",
    "\n",
    "kde = [u1 - theta_d, u2 - eta_dot]\n",
    "kane = KanesMethod(Nrf, coordinates, speeds, kde)\n",
    "\n",
    "I_x, I_y, I_z, m_sc = symbols('I_X I_Y I_Z m_sc') # Inertia of s/c and mass \n",
    "\n",
    "itd = inertia(Brf, I_x, I_y, I_z)\n",
    "\n",
    "i1 = (itd, O)\n",
    "\n",
    "sc_body = RigidBody('sc_body', O, Brf, m_sc, i1)\n",
    "\n",
    "# Define forces and torques\n",
    "Tw, Ty = dynamicsymbols('Tw Ty') # disturbance torques and control torques\n",
    "\n",
    "\n",
    "t_Tw = (Brf, Tw*Brf.z)\n",
    "t_Ty = (Brf, Ty*Brf.z)\n",
    "\n",
    "loads = [t_Tw, t_Ty]\n",
    "bodies = [sc_body]\n",
    "\n",
    "fr, frstar = kane.kanes_equations(bodies, loads)\n",
    "trigsimp(fr + frstar)\n",
    "\n",
    "eqns = fr + frstar"
   ]
  },
  {
   "cell_type": "code",
   "execution_count": 3,
   "metadata": {},
   "outputs": [],
   "source": [
    "F = symbols('F') # elastic coupling matrix\n",
    "gamma, omega = symbols('gamma omega')\n",
    "eqns[0]= eqns[0] - F*u2d\n",
    "eqns[1] = u2d + 2*gamma*omega*u2 + omega**2*eta + F*u1d"
   ]
  },
  {
   "cell_type": "code",
   "execution_count": 88,
   "metadata": {},
   "outputs": [
    {
     "data": {
      "text/latex": [
       "$\\displaystyle \\left[\\begin{matrix}- F \\frac{d}{d t} \\operatorname{u_{2}}{\\left(t \\right)} - I_{Z} \\frac{d}{d t} \\operatorname{u_{1}}{\\left(t \\right)} + \\operatorname{Tw}{\\left(t \\right)} + \\operatorname{Ty}{\\left(t \\right)}\\\\F \\frac{d}{d t} \\operatorname{u_{1}}{\\left(t \\right)} + 2 \\gamma \\omega \\operatorname{u_{2}}{\\left(t \\right)} + \\omega^{2} \\eta{\\left(t \\right)} + \\frac{d}{d t} \\operatorname{u_{2}}{\\left(t \\right)}\\end{matrix}\\right]$"
      ],
      "text/plain": [
       "Matrix([\n",
       "[                   -F*Derivative(u2(t), t) - I_Z*Derivative(u1(t), t) + Tw(t) + Ty(t)],\n",
       "[F*Derivative(u1(t), t) + 2*gamma*omega*u2(t) + omega**2*eta(t) + Derivative(u2(t), t)]])"
      ]
     },
     "execution_count": 88,
     "metadata": {},
     "output_type": "execute_result"
    }
   ],
   "source": [
    "eqns"
   ]
  },
  {
   "cell_type": "code",
   "execution_count": 89,
   "metadata": {},
   "outputs": [],
   "source": [
    "from sympy import solve\n",
    "f_eqn = ones(4,1)\n",
    "f_eqn[0] = u1\n",
    "f_eqn[1] = u2\n",
    "\n",
    "\n",
    "\n",
    "\n",
    "f_eqn[2] = solve(eqns[0], u1d)\n",
    "f_eqn[3] = solve(eqns[1], u2d)"
   ]
  },
  {
   "cell_type": "code",
   "execution_count": 10,
   "metadata": {},
   "outputs": [
    {
     "ename": "NameError",
     "evalue": "name 't' is not defined",
     "output_type": "error",
     "traceback": [
      "\u001b[1;31m---------------------------------------------------------------------------\u001b[0m",
      "\u001b[1;31mNameError\u001b[0m                                 Traceback (most recent call last)",
      "\u001b[1;32m<ipython-input-10-ebcfe8f67835>\u001b[0m in \u001b[0;36m<module>\u001b[1;34m\u001b[0m\n\u001b[0;32m      1\u001b[0m \u001b[1;32mfrom\u001b[0m \u001b[0msympy\u001b[0m \u001b[1;32mimport\u001b[0m \u001b[0mDerivative\u001b[0m\u001b[1;33m\u001b[0m\u001b[0m\n\u001b[1;32m----> 2\u001b[1;33m \u001b[0meqns\u001b[0m\u001b[1;33m[\u001b[0m\u001b[1;36m0\u001b[0m\u001b[1;33m]\u001b[0m\u001b[1;33m.\u001b[0m\u001b[0msubs\u001b[0m\u001b[1;33m(\u001b[0m\u001b[1;33m{\u001b[0m\u001b[0mDerivative\u001b[0m\u001b[1;33m(\u001b[0m\u001b[0mu1\u001b[0m\u001b[1;33m,\u001b[0m \u001b[0mt\u001b[0m\u001b[1;33m)\u001b[0m\u001b[1;33m:\u001b[0m \u001b[0mexpression\u001b[0m\u001b[1;33m}\u001b[0m\u001b[1;33m)\u001b[0m\u001b[1;33m\u001b[0m\u001b[0m\n\u001b[0m",
      "\u001b[1;31mNameError\u001b[0m: name 't' is not defined"
     ]
    }
   ],
   "source": [
    "from sympy import Derivative\n",
    "eqns[0].subs({Derivative(u1, t): expression})"
   ]
  },
  {
   "cell_type": "code",
   "execution_count": 90,
   "metadata": {},
   "outputs": [
    {
     "data": {
      "text/latex": [
       "$\\displaystyle \\left[\\begin{matrix}\\operatorname{u_{1}}{\\left(t \\right)}\\\\\\operatorname{u_{2}}{\\left(t \\right)}\\\\\\frac{- F \\frac{d}{d t} \\operatorname{u_{2}}{\\left(t \\right)} + \\operatorname{Tw}{\\left(t \\right)} + \\operatorname{Ty}{\\left(t \\right)}}{I_{Z}}\\\\- F \\frac{d}{d t} \\operatorname{u_{1}}{\\left(t \\right)} - 2 \\gamma \\omega \\operatorname{u_{2}}{\\left(t \\right)} - \\omega^{2} \\eta{\\left(t \\right)}\\end{matrix}\\right]$"
      ],
      "text/plain": [
       "Matrix([\n",
       "[                                                          u1(t)],\n",
       "[                                                          u2(t)],\n",
       "[                  (-F*Derivative(u2(t), t) + Tw(t) + Ty(t))/I_Z],\n",
       "[-F*Derivative(u1(t), t) - 2*gamma*omega*u2(t) - omega**2*eta(t)]])"
      ]
     },
     "execution_count": 90,
     "metadata": {},
     "output_type": "execute_result"
    }
   ],
   "source": [
    "\n",
    "f_eqn"
   ]
  },
  {
   "cell_type": "code",
   "execution_count": 84,
   "metadata": {},
   "outputs": [
    {
     "data": {
      "text/plain": [
       "sympy.matrices.dense.MutableDenseMatrix"
      ]
     },
     "execution_count": 84,
     "metadata": {},
     "output_type": "execute_result"
    }
   ],
   "source": [
    "type(f_eqn)"
   ]
  },
  {
   "cell_type": "code",
   "execution_count": 85,
   "metadata": {},
   "outputs": [
    {
     "data": {
      "text/plain": [
       "4"
      ]
     },
     "execution_count": 85,
     "metadata": {},
     "output_type": "execute_result"
    }
   ],
   "source": [
    "f_eqn.shape[0]"
   ]
  },
  {
   "cell_type": "code",
   "execution_count": 101,
   "metadata": {},
   "outputs": [
    {
     "data": {
      "text/latex": [
       "$\\displaystyle \\left[\\begin{matrix}\\operatorname{u_{1}}{\\left(t \\right)}\\\\\\operatorname{u_{2}}{\\left(t \\right)}\\\\\\frac{- F \\operatorname{q_{1}}{\\left(t \\right)} + \\operatorname{Tw}{\\left(t \\right)} + \\operatorname{Ty}{\\left(t \\right)}}{I_{Z}}\\\\- F \\operatorname{q_{2}}{\\left(t \\right)} - 2 \\gamma \\omega \\operatorname{u_{2}}{\\left(t \\right)} - \\omega^{2} \\eta{\\left(t \\right)}\\end{matrix}\\right]$"
      ],
      "text/plain": [
       "Matrix([\n",
       "[                                           u1(t)],\n",
       "[                                           u2(t)],\n",
       "[                  (-F*q1(t) + Tw(t) + Ty(t))/I_Z],\n",
       "[-F*q2(t) - 2*gamma*omega*u2(t) - omega**2*eta(t)]])"
      ]
     },
     "execution_count": 101,
     "metadata": {},
     "output_type": "execute_result"
    }
   ],
   "source": [
    "f_eqn"
   ]
  },
  {
   "cell_type": "code",
   "execution_count": 102,
   "metadata": {},
   "outputs": [
    {
     "data": {
      "text/plain": [
       "4"
      ]
     },
     "execution_count": 102,
     "metadata": {},
     "output_type": "execute_result"
    }
   ],
   "source": [
    "f_eqn.shape[0]"
   ]
  },
  {
   "cell_type": "code",
   "execution_count": 110,
   "metadata": {},
   "outputs": [
    {
     "ename": "NameError",
     "evalue": "name 'q1' is not defined",
     "output_type": "error",
     "traceback": [
      "\u001b[1;31m---------------------------------------------------------------------------\u001b[0m",
      "\u001b[1;31mNameError\u001b[0m                                 Traceback (most recent call last)",
      "\u001b[1;32m<ipython-input-110-382f9c255a02>\u001b[0m in \u001b[0;36m<module>\u001b[1;34m\u001b[0m\n\u001b[0;32m      5\u001b[0m \u001b[0mt\u001b[0m \u001b[1;33m=\u001b[0m \u001b[0mlinspace\u001b[0m\u001b[1;33m(\u001b[0m\u001b[1;36m0\u001b[0m\u001b[1;33m,\u001b[0m \u001b[1;36m50\u001b[0m\u001b[1;33m,\u001b[0m \u001b[1;36m500\u001b[0m\u001b[1;33m)\u001b[0m\u001b[1;33m\u001b[0m\u001b[0m\n\u001b[0;32m      6\u001b[0m \u001b[0mx0\u001b[0m \u001b[1;33m=\u001b[0m \u001b[0mzeros\u001b[0m\u001b[1;33m(\u001b[0m\u001b[1;36m8\u001b[0m\u001b[1;33m)\u001b[0m\u001b[1;33m\u001b[0m\u001b[0m\n\u001b[1;32m----> 7\u001b[1;33m \u001b[0mrhs\u001b[0m\u001b[1;33m(\u001b[0m\u001b[0mx0\u001b[0m\u001b[1;33m,\u001b[0m \u001b[1;36m0.0\u001b[0m\u001b[1;33m,\u001b[0m \u001b[0mnum_constants\u001b[0m\u001b[1;33m)\u001b[0m\u001b[1;33m\u001b[0m\u001b[0m\n\u001b[0m\u001b[0;32m      8\u001b[0m \u001b[1;31m#y = odeint(rhs, x0, t, args=(num_constants, ))\u001b[0m\u001b[1;33m\u001b[0m\u001b[1;33m\u001b[0m\u001b[0m\n\u001b[0;32m      9\u001b[0m \u001b[1;33m\u001b[0m\u001b[0m\n",
      "\u001b[1;32m~\\AppData\\Roaming\\Python\\Python36\\site-packages\\pydy\\codegen\\ode_function_generators.py\u001b[0m in \u001b[0;36mrhs\u001b[1;34m(*args)\u001b[0m\n\u001b[0;32m    489\u001b[0m \u001b[1;33m\u001b[0m\u001b[0m\n\u001b[0;32m    490\u001b[0m                 \u001b[1;32mif\u001b[0m \u001b[0mself\u001b[0m\u001b[1;33m.\u001b[0m\u001b[0mconstants\u001b[0m\u001b[1;33m:\u001b[0m\u001b[1;33m\u001b[0m\u001b[0m\n\u001b[1;32m--> 491\u001b[1;33m                     \u001b[0mxdot\u001b[0m \u001b[1;33m=\u001b[0m \u001b[0mself\u001b[0m\u001b[1;33m.\u001b[0m\u001b[0m_base_rhs\u001b[0m\u001b[1;33m(\u001b[0m\u001b[0mq\u001b[0m\u001b[1;33m,\u001b[0m \u001b[0mu\u001b[0m\u001b[1;33m,\u001b[0m \u001b[1;33m*\u001b[0m\u001b[0margs\u001b[0m\u001b[1;33m[\u001b[0m\u001b[1;36m2\u001b[0m\u001b[1;33m:\u001b[0m\u001b[1;33m]\u001b[0m\u001b[1;33m)\u001b[0m\u001b[1;33m\u001b[0m\u001b[0m\n\u001b[0m\u001b[0;32m    492\u001b[0m                 \u001b[1;32melse\u001b[0m\u001b[1;33m:\u001b[0m\u001b[1;33m\u001b[0m\u001b[0m\n\u001b[0;32m    493\u001b[0m                     \u001b[0mxdot\u001b[0m \u001b[1;33m=\u001b[0m \u001b[0mself\u001b[0m\u001b[1;33m.\u001b[0m\u001b[0m_base_rhs\u001b[0m\u001b[1;33m(\u001b[0m\u001b[0mq\u001b[0m\u001b[1;33m,\u001b[0m \u001b[0mu\u001b[0m\u001b[1;33m,\u001b[0m \u001b[1;33m*\u001b[0m\u001b[1;33m(\u001b[0m\u001b[0margs\u001b[0m\u001b[1;33m[\u001b[0m\u001b[1;36m2\u001b[0m\u001b[1;33m:\u001b[0m\u001b[1;36m3\u001b[0m\u001b[1;33m]\u001b[0m \u001b[1;33m+\u001b[0m \u001b[1;33m(\u001b[0m\u001b[1;33m[\u001b[0m\u001b[1;33m]\u001b[0m\u001b[1;33m,\u001b[0m\u001b[1;33m)\u001b[0m\u001b[1;33m)\u001b[0m\u001b[1;33m)\u001b[0m\u001b[1;33m\u001b[0m\u001b[0m\n",
      "\u001b[1;32m~\\AppData\\Roaming\\Python\\Python36\\site-packages\\pydy\\codegen\\ode_function_generators.py\u001b[0m in \u001b[0;36m<lambda>\u001b[1;34m(q, u, p)\u001b[0m\n\u001b[0;32m    770\u001b[0m \u001b[1;33m\u001b[0m\u001b[0m\n\u001b[0;32m    771\u001b[0m         \u001b[1;32mif\u001b[0m \u001b[0mself\u001b[0m\u001b[1;33m.\u001b[0m\u001b[0mspecifieds\u001b[0m \u001b[1;32mis\u001b[0m \u001b[1;32mNone\u001b[0m\u001b[1;33m:\u001b[0m\u001b[1;33m\u001b[0m\u001b[0m\n\u001b[1;32m--> 772\u001b[1;33m             \u001b[0mself\u001b[0m\u001b[1;33m.\u001b[0m\u001b[0meval_arrays\u001b[0m \u001b[1;33m=\u001b[0m \u001b[1;32mlambda\u001b[0m \u001b[0mq\u001b[0m\u001b[1;33m,\u001b[0m \u001b[0mu\u001b[0m\u001b[1;33m,\u001b[0m \u001b[0mp\u001b[0m\u001b[1;33m:\u001b[0m \u001b[0mnp\u001b[0m\u001b[1;33m.\u001b[0m\u001b[0msqueeze\u001b[0m\u001b[1;33m(\u001b[0m\u001b[0mf\u001b[0m\u001b[1;33m(\u001b[0m\u001b[0mq\u001b[0m\u001b[1;33m,\u001b[0m \u001b[0mu\u001b[0m\u001b[1;33m,\u001b[0m \u001b[0mp\u001b[0m\u001b[1;33m)\u001b[0m\u001b[1;33m)\u001b[0m\u001b[1;33m\u001b[0m\u001b[0m\n\u001b[0m\u001b[0;32m    773\u001b[0m         \u001b[1;32melse\u001b[0m\u001b[1;33m:\u001b[0m\u001b[1;33m\u001b[0m\u001b[0m\n\u001b[0;32m    774\u001b[0m             \u001b[0mself\u001b[0m\u001b[1;33m.\u001b[0m\u001b[0meval_arrays\u001b[0m \u001b[1;33m=\u001b[0m \u001b[1;32mlambda\u001b[0m \u001b[0mq\u001b[0m\u001b[1;33m,\u001b[0m \u001b[0mu\u001b[0m\u001b[1;33m,\u001b[0m \u001b[0mr\u001b[0m\u001b[1;33m,\u001b[0m \u001b[0mp\u001b[0m\u001b[1;33m:\u001b[0m \u001b[0mnp\u001b[0m\u001b[1;33m.\u001b[0m\u001b[0msqueeze\u001b[0m\u001b[1;33m(\u001b[0m\u001b[0mf\u001b[0m\u001b[1;33m(\u001b[0m\u001b[0mq\u001b[0m\u001b[1;33m,\u001b[0m \u001b[0mu\u001b[0m\u001b[1;33m,\u001b[0m \u001b[0mr\u001b[0m\u001b[1;33m,\u001b[0m \u001b[0mp\u001b[0m\u001b[1;33m)\u001b[0m\u001b[1;33m)\u001b[0m\u001b[1;33m\u001b[0m\u001b[0m\n",
      "\u001b[1;32m<lambdifygenerated-18>\u001b[0m in \u001b[0;36m_lambdifygenerated\u001b[1;34m(q, u, p)\u001b[0m\n\u001b[0;32m      1\u001b[0m \u001b[1;32mdef\u001b[0m \u001b[0m_lambdifygenerated\u001b[0m\u001b[1;33m(\u001b[0m\u001b[0mq\u001b[0m\u001b[1;33m,\u001b[0m \u001b[0mu\u001b[0m\u001b[1;33m,\u001b[0m \u001b[0mp\u001b[0m\u001b[1;33m)\u001b[0m\u001b[1;33m:\u001b[0m\u001b[1;33m\u001b[0m\u001b[0m\n\u001b[1;32m----> 2\u001b[1;33m     \u001b[1;32mreturn\u001b[0m \u001b[1;33m[\u001b[0m\u001b[0marray\u001b[0m\u001b[1;33m(\u001b[0m\u001b[1;33m[\u001b[0m\u001b[1;33m[\u001b[0m\u001b[0mu\u001b[0m\u001b[1;33m[\u001b[0m\u001b[1;36m0\u001b[0m\u001b[1;33m]\u001b[0m\u001b[1;33m]\u001b[0m\u001b[1;33m,\u001b[0m \u001b[1;33m[\u001b[0m\u001b[0mu\u001b[0m\u001b[1;33m[\u001b[0m\u001b[1;36m1\u001b[0m\u001b[1;33m]\u001b[0m\u001b[1;33m]\u001b[0m\u001b[1;33m,\u001b[0m \u001b[1;33m[\u001b[0m\u001b[1;33m(\u001b[0m\u001b[1;33m-\u001b[0m\u001b[0mp\u001b[0m\u001b[1;33m[\u001b[0m\u001b[1;36m3\u001b[0m\u001b[1;33m]\u001b[0m\u001b[1;33m*\u001b[0m\u001b[0mq1\u001b[0m\u001b[1;33m(\u001b[0m\u001b[0mt\u001b[0m\u001b[1;33m)\u001b[0m \u001b[1;33m+\u001b[0m \u001b[0mTw\u001b[0m\u001b[1;33m(\u001b[0m\u001b[0mt\u001b[0m\u001b[1;33m)\u001b[0m \u001b[1;33m+\u001b[0m \u001b[0mTy\u001b[0m\u001b[1;33m(\u001b[0m\u001b[0mt\u001b[0m\u001b[1;33m)\u001b[0m\u001b[1;33m)\u001b[0m\u001b[1;33m/\u001b[0m\u001b[0mp\u001b[0m\u001b[1;33m[\u001b[0m\u001b[1;36m0\u001b[0m\u001b[1;33m]\u001b[0m\u001b[1;33m]\u001b[0m\u001b[1;33m,\u001b[0m \u001b[1;33m[\u001b[0m\u001b[1;33m-\u001b[0m\u001b[1;36m2\u001b[0m\u001b[1;33m*\u001b[0m\u001b[0mp\u001b[0m\u001b[1;33m[\u001b[0m\u001b[1;36m1\u001b[0m\u001b[1;33m]\u001b[0m\u001b[1;33m*\u001b[0m\u001b[0mp\u001b[0m\u001b[1;33m[\u001b[0m\u001b[1;36m2\u001b[0m\u001b[1;33m]\u001b[0m\u001b[1;33m*\u001b[0m\u001b[0mu\u001b[0m\u001b[1;33m[\u001b[0m\u001b[1;36m1\u001b[0m\u001b[1;33m]\u001b[0m \u001b[1;33m-\u001b[0m \u001b[0mp\u001b[0m\u001b[1;33m[\u001b[0m\u001b[1;36m2\u001b[0m\u001b[1;33m]\u001b[0m\u001b[1;33m**\u001b[0m\u001b[1;36m2\u001b[0m\u001b[1;33m*\u001b[0m\u001b[0mq\u001b[0m\u001b[1;33m[\u001b[0m\u001b[1;36m1\u001b[0m\u001b[1;33m]\u001b[0m \u001b[1;33m-\u001b[0m \u001b[0mp\u001b[0m\u001b[1;33m[\u001b[0m\u001b[1;36m3\u001b[0m\u001b[1;33m]\u001b[0m\u001b[1;33m*\u001b[0m\u001b[0mq2\u001b[0m\u001b[1;33m(\u001b[0m\u001b[0mt\u001b[0m\u001b[1;33m)\u001b[0m\u001b[1;33m]\u001b[0m\u001b[1;33m]\u001b[0m\u001b[1;33m)\u001b[0m\u001b[1;33m]\u001b[0m\u001b[1;33m\u001b[0m\u001b[0m\n\u001b[0m",
      "\u001b[1;31mNameError\u001b[0m: name 'q1' is not defined"
     ]
    }
   ],
   "source": [
    "\n",
    "constants = [I_z, gamma, omega, F]\n",
    "num_constants = array([440, 0.005, 0.3, 1.278])\n",
    "rhs = generate_ode_function(right_hand_side = f_eqn, coordinates = coordinates, speeds = speeds, constants = constants)\n",
    "\n",
    "t = linspace(0, 50, 500)\n",
    "x0 = zeros(8)\n",
    "rhs(x0, 0.0, num_constants)\n",
    "#y = odeint(rhs, x0, t, args=(num_constants, ))\n",
    "\n"
   ]
  },
  {
   "cell_type": "code",
   "execution_count": 70,
   "metadata": {},
   "outputs": [
    {
     "data": {
      "text/plain": [
       "\"Returns the derivatives of the states, i.e. numerically evaluates the right\\nhand side of the first order differential equation.\\n\\nx' = f(x, t, p)\\n\\nParameters\\n==========\\nx : ndarray, shape(4,)\\n    The state vector is ordered as such:\\n        - theta(t)\\n        - eta(t)\\n        - u1(t)\\n        - u2(t)\\nt : float\\n    The current time.\\np : dictionary len(4) or ndarray shape(4,)\\n    Either a dictionary that maps the constants symbols to their numerical\\n    values or an array with the constants in the following order:\\n        - I_Z\\n        - gamma\\n        - omega\\n        - F\\n\\nReturns\\n=======\\ndx : ndarray, shape(4,)\\n    The derivative of the state vector.\\n\\n\""
      ]
     },
     "execution_count": 70,
     "metadata": {},
     "output_type": "execute_result"
    }
   ],
   "source": [
    "rhs.__doc__"
   ]
  },
  {
   "cell_type": "code",
   "execution_count": null,
   "metadata": {},
   "outputs": [],
   "source": []
  }
 ],
 "metadata": {
  "kernelspec": {
   "display_name": "Python 3",
   "language": "python",
   "name": "python3"
  },
  "language_info": {
   "codemirror_mode": {
    "name": "ipython",
    "version": 3
   },
   "file_extension": ".py",
   "mimetype": "text/x-python",
   "name": "python",
   "nbconvert_exporter": "python",
   "pygments_lexer": "ipython3",
   "version": "3.6.1"
  },
  "orig_nbformat": 4
 },
 "nbformat": 4,
 "nbformat_minor": 2
}
