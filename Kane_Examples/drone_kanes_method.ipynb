{
 "cells": [
  {
   "cell_type": "markdown",
   "metadata": {},
   "source": [
    "### Generating Quadrotor EoMs using Kane's Method and Sympy\n",
    "\n",
    "![Drone image](imgs/drone.PNG)\n",
    "\n",
    "Modeling a CrazyFlie 2.0 Drone \n",
    "Using Project guide from Temple University MEE 411/5411:\n",
    "https://github.com/BAmercury/MobileRobotics_Project2/blob/1a99b41272352da760fc6c3ba6914aceb616297c/Project2-Phase1.pdf\n",
    "Thanks to Dr. Phillip Dames\n",
    "\n",
    "#### Given:\n",
    "mass: m = 0.030 kg\n",
    "Distance from CoM to axis of a motor: L = 0.046 m\n",
    "Inertia in the body-fixed frame:\n",
    "![Drone inertia matrix](imgs/drone_inertia.PNG)\n",
    "\n",
    "#### Motor Model:\n",
    "\n",
    "Each rotor has an angular speed $\\omega$<sub>i</sub> and produces a vertical force F<sub>i</sub> according to this simple model:\n",
    "\n",
    "F<sub>i</sub> = k<sub>F</sub> * $\\omega$<sub>i</sub><sup>2</sup>\n",
    "\n",
    "k<sub>F</sub> ~= 6.11 * 10<sup>-8</sup>N/rpm<sup>2</sup>\n",
    "\n",
    "Rotors also produce a moment according to:\n",
    "\n",
    "M<sub>i</sub> = k<sub>M</sub> * $\\omega$<sub>i</sub><sup>2</sup>\n",
    "\n",
    "with k<sub>M</sub> = 1.5 * 10<sup>-9</sup>Nm/rpm<sup>2</sup>\n",
    "\n",
    "Through system ID, rotor speed can be related to commanded speed through this first order ODE:\n",
    "\n",
    "$\\dot{w}$ = k<sub>m</sub> * ($\\omega$<sub>i</sub><sup>des</sup> - $\\omega$<sub>i</sub>)\n",
    "\n",
    "Motor gain k<sub>m</sub> was found to be 20s<sup>-1</sup> by matching performance of the simulation with the real system\n",
    "\n"
   ]
  }
 ],
 "metadata": {
  "language_info": {
   "name": "python"
  },
  "orig_nbformat": 4
 },
 "nbformat": 4,
 "nbformat_minor": 2
}
