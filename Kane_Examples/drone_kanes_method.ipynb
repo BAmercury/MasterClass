{
 "cells": [
  {
   "cell_type": "markdown",
   "metadata": {},
   "source": [
    "### Generating Quadrotor EoMs using Kane's Method and Sympy\n",
    "\n",
    "![Drone image](imgs/drone.PNG)\n",
    "\n",
    "Modeling a CrazyFlie 2.0 Drone \n",
    "Using Project guide from Temple University MEE 411/5411:\n",
    "https://github.com/BAmercury/MobileRobotics_Project2/blob/1a99b41272352da760fc6c3ba6914aceb616297c/Project2-Phase1.pdf\n",
    "Thanks to Dr. Phillip Dames\n",
    "\n",
    "#### Given:\n",
    "mass: m = 0.030 kg\n",
    "Distance from CoM to axis of a motor: L = 0.046 m\n",
    "Inertia in the body-fixed frame:\n",
    "![Drone inertia matrix](imgs/drone_inertia.PNG)\n",
    "\n",
    "#### Motor Model:\n",
    "\n",
    "Each rotor has an angular speed $\\omega$<sub>i</sub> and produces a vertical force F<sub>i</sub> according to this simple model:\n",
    "\n",
    "F<sub>i</sub> = k<sub>F</sub> * $\\omega$<sub>i</sub><sup>2</sup>\n",
    "\n",
    "k<sub>F</sub> ~= 6.11 * 10<sup>-8</sup>N/rpm<sup>2</sup>\n",
    "\n",
    "Rotors also produce a moment according to:\n",
    "\n",
    "M<sub>i</sub> = k<sub>M</sub> * $\\omega$<sub>i</sub><sup>2</sup>\n",
    "\n",
    "with k<sub>M</sub> = 1.5 * 10<sup>-9</sup>Nm/rpm<sup>2</sup>\n",
    "\n",
    "Through system ID, rotor speed can be related to commanded speed through this first order ODE:\n",
    "\n",
    "$\\dot{w}$ = k<sub>m</sub> * ($\\omega$<sub>i</sub><sup>des</sup> - $\\omega$<sub>i</sub>)\n",
    "\n",
    "Motor gain k<sub>m</sub> was found to be 20s<sup>-1</sup> by matching performance of the simulation with the real system\n",
    "\n"
   ]
  },
  {
   "cell_type": "code",
   "execution_count": 7,
   "metadata": {},
   "outputs": [],
   "source": [
    "from sympy.physics.mechanics import *\n",
    "from sympy import symbols, trigsimp\n",
    "from numpy import deg2rad, rad2deg, array, zeros, linspace, pi\n",
    "from scipy.integrate import odeint\n",
    "from sympy.functions.elementary.trigonometric import sin, cos\n",
    "from sympy import Matrix\n",
    "from pydy.codegen.ode_function_generators import generate_ode_function\n",
    "\n",
    "from sympy.physics.vector import init_vprinting\n",
    "import matplotlib.pyplot as plt\n"
   ]
  },
  {
   "cell_type": "code",
   "execution_count": 69,
   "metadata": {},
   "outputs": [],
   "source": [
    "# Define state vector\n",
    "\n",
    "# Roll Pitch Yaw Euler angles\n",
    "theta, phi, psi = dynamicsymbols('theta phi psi') # drone orientation expressed in inertial frame\n",
    "thetad, phid, psid = dynamicsymbols('theta phi psi', 1) # drone angular velocity expressed in inertial frame\n",
    "p, q, r = dynamicsymbols('p q r') # drone angular velocity in the body frame\n",
    "# X Y Z translation\n",
    "x, y, z = dynamicsymbols('x y z')\n",
    "xd, yd, zd = dynamicsymbols('x y z', 1)\n",
    "\n",
    "# Generalized speeds\n",
    "# u1 = xd\n",
    "# u2 = yd\n",
    "# u3 = zd\n",
    "# u4 = phid\n",
    "# u5 = thetad\n",
    "# u6 = psid\n",
    "u1, u2, u3, u4, u5, u6 = dynamicsymbols('u1 u2 u3 u4 u5 u6')\n",
    "u1d, u2d, u3d, u4d, u5d, u6d = dynamicsymbols('u1 u2 u3 u4 u5 u6', 1)\n",
    "\n",
    "# Define Reference Frames\n",
    "Nrf = ReferenceFrame('Nrf') # Inertial Reference Frame\n",
    "# Body Fixed Reference Frame\n",
    "# Z-X-Y Euler rotation, will write the DCM directly for sympy\n",
    "cpsi = cos(psi)\n",
    "spsi = sin(psi)\n",
    "ctheta = cos(theta)\n",
    "stheta = sin(theta)\n",
    "cphi = cos(phi)\n",
    "sphi = sin(phi)\n",
    "\n",
    "c11 = cpsi*ctheta - sphi*spsi*stheta\n",
    "c12 = -cphi*spsi\n",
    "c13 = cpsi*stheta + ctheta*spsi*sphi\n",
    "c21 = ctheta*spsi + cpsi*sphi*stheta\n",
    "c22 = cphi*cpsi\n",
    "c23 = spsi*stheta - cpsi*ctheta*sphi\n",
    "c31 = -cphi*stheta\n",
    "c32 = sphi\n",
    "c33 = cphi*ctheta\n",
    "\n",
    "BrfToNrf = Matrix([[c11, c12, c13],\n",
    "                   [c21, c22, c23],\n",
    "                   [c31, c32, c33]])\n",
    "    \n",
    "\n",
    "# Body frame is attached to CoM of drone\n",
    "# b1 coincides with forward direction\n",
    "# b3 is perpendicular ot plane of rotors pointing vertically up during hover\n",
    "# body frame is parallel to principal axes\n",
    "Brf = Nrf.orientnew('Brf', 'DCM', BrfToNrf.transpose())\n",
    "\n",
    "# Set angular velocity of these frames\n",
    "Brf.set_ang_vel(Brf, p*Brf.x + q*Brf.y + r*Brf.z)\n",
    "\n",
    "# Define Locations\n",
    "O = Point('O') # Inertial origin\n",
    "O.set_vel(Nrf, 0)\n",
    "\n",
    "# CoM of Drone\n",
    "d_CG = Point('d_CG')\n",
    "# Set the CG position and velocity\n",
    "d_CG.set_pos(O, x*Nrf.x + y*Nrf.y + z*Nrf.z)\n",
    "d_CG.set_vel(Nrf, d_CG.pos_from(O).dt(Nrf)) # Translation velocity\n",
    "# Location of rotor motors\n",
    "l = symbols('l') # length between drone cg and motor location\n",
    "M1 = d_CG.locatenew('M1', l*Brf.x)\n",
    "M2 = d_CG.locatenew('M2', l*Brf.y)\n",
    "M3 = d_CG.locatenew('M3', -l*Brf.x)\n",
    "M4 = d_CG.locatenew('M4', -l*Brf.y)\n",
    "\n",
    "M1.v2pt_theory(d_CG, Nrf, Brf)\n",
    "M2.v2pt_theory(d_CG, Nrf, Brf)\n",
    "M3.v2pt_theory(d_CG, Nrf, Brf)\n",
    "M4.v2pt_theory(d_CG, Nrf, Brf)\n",
    "\n",
    "# Gather everything into lists\n",
    "# X Y Z translation\n",
    "coordinates = [x, y, z, phi, theta, psi]\n",
    "speeds = [u1, u2, u3, u4, u5, u6]\n",
    "\n",
    "# Kinematic Differential Equations\n",
    "# u1 = xd\n",
    "# u2 = yd\n",
    "# u3 = zd\n",
    "# u4 = phid\n",
    "# u5 = thetad\n",
    "# u6 = psid\n",
    "kde = [u1 - xd, u2 - yd, u3 - zd, u4 - phid, u5 - thetad, u6 - psid]\n",
    "\n",
    "# initial kane's object\n",
    "kane = KanesMethod(Nrf, coordinates, speeds, kde)\n",
    "\n",
    "# inertia dynamics\n",
    "# inertia(N, 1, 2, 3, 4, 5, 6).to_matrix(N)\n",
    "# Matrix([\n",
    "#[1, 4, 6],\n",
    "#[4, 2, 5],\n",
    "#[6, 5, 3]])\n",
    "I_d, m_drone = symbols('I_D m_drone') # Inertia of drone and mass \n",
    "itd = inertia(Brf, 1.43e-5, 1.43e-5, 2.89e-5, 0, 0, 0)\n",
    "\n",
    "i1 = (itd, d_CG)\n",
    "# Define rigid body objects\n",
    "drone_body = RigidBody('drone_body', d_CG, Brf, m_drone, i1)\n",
    "\n",
    "# Define forces and point of application\n",
    "# Gravity\n",
    "g = symbols('g') # gravity\n",
    "# Thrust and Torque from each motor \n",
    "ThrM1, ThrM2, ThrM3, ThrM4, TorM1, TorM2, TorM3, TorM4 = symbols('ThrM1 ThrM2 ThrM3 ThrM4 TorM1 TorM2 TorM3 TorM4')\n",
    "f_g = (d_CG, m_drone*g*Nrf.z)\n",
    "f_M1 = (M1, -ThrM1*Brf.z)\n",
    "f_M2 = (M2, -ThrM2*Brf.z)\n",
    "f_M3 = (M3, -ThrM3*Brf.z)\n",
    "f_M4 = (M4, -ThrM4*Brf.z)\n",
    "\n",
    "t_M1 = (Brf, -TorM1*Brf.z) # CCW\n",
    "t_M2 = (Brf, TorM2*Brf.z) # CW\n",
    "t_M3 = (Brf, -TorM3*Brf.z) # CCW\n",
    "t_M4 = (Brf, TorM4*Brf.z) # CW\n",
    "\n",
    "loads = [f_g, f_M1, f_M2, f_M3, f_M4, t_M1, t_M2, t_M3, t_M4]\n",
    "bodies = [drone_body]\n",
    "\n",
    "\n",
    "\n"
   ]
  },
  {
   "cell_type": "code",
   "execution_count": 73,
   "metadata": {},
   "outputs": [
    {
     "data": {
      "text/latex": [
       "$\\displaystyle \\left[\\begin{matrix}ThrM_{1} \\sin{\\left(\\theta{\\left(t \\right)} \\right)} \\cos{\\left(\\phi{\\left(t \\right)} \\right)} + ThrM_{2} \\sin{\\left(\\theta{\\left(t \\right)} \\right)} \\cos{\\left(\\phi{\\left(t \\right)} \\right)} + ThrM_{3} \\sin{\\left(\\theta{\\left(t \\right)} \\right)} \\cos{\\left(\\phi{\\left(t \\right)} \\right)} + ThrM_{4} \\sin{\\left(\\theta{\\left(t \\right)} \\right)} \\cos{\\left(\\phi{\\left(t \\right)} \\right)} - m_{drone} \\frac{d}{d t} \\operatorname{u_{1}}{\\left(t \\right)}\\\\- ThrM_{1} \\sin{\\left(\\phi{\\left(t \\right)} \\right)} - ThrM_{2} \\sin{\\left(\\phi{\\left(t \\right)} \\right)} - ThrM_{3} \\sin{\\left(\\phi{\\left(t \\right)} \\right)} - ThrM_{4} \\sin{\\left(\\phi{\\left(t \\right)} \\right)} - m_{drone} \\frac{d}{d t} \\operatorname{u_{2}}{\\left(t \\right)}\\\\- ThrM_{1} \\cos{\\left(\\phi{\\left(t \\right)} \\right)} \\cos{\\left(\\theta{\\left(t \\right)} \\right)} - ThrM_{2} \\cos{\\left(\\phi{\\left(t \\right)} \\right)} \\cos{\\left(\\theta{\\left(t \\right)} \\right)} - ThrM_{3} \\cos{\\left(\\phi{\\left(t \\right)} \\right)} \\cos{\\left(\\theta{\\left(t \\right)} \\right)} - ThrM_{4} \\cos{\\left(\\phi{\\left(t \\right)} \\right)} \\cos{\\left(\\theta{\\left(t \\right)} \\right)} + g m_{drone} - m_{drone} \\frac{d}{d t} \\operatorname{u_{3}}{\\left(t \\right)}\\\\- 1.0 ThrM_{1} l \\sin{\\left(\\psi{\\left(t \\right)} \\right)} + 1.0 ThrM_{2} l \\cos{\\left(\\psi{\\left(t \\right)} \\right)} + 1.0 ThrM_{3} l \\sin{\\left(\\psi{\\left(t \\right)} \\right)} - 1.0 ThrM_{4} l \\cos{\\left(\\psi{\\left(t \\right)} \\right)} + 1.46 \\cdot 10^{-5} \\operatorname{u_{5}}^{2}{\\left(t \\right)} \\sin{\\left(\\phi{\\left(t \\right)} \\right)} \\cos{\\left(\\phi{\\left(t \\right)} \\right)} + 2.89 \\cdot 10^{-5} \\operatorname{u_{5}}{\\left(t \\right)} \\operatorname{u_{6}}{\\left(t \\right)} \\cos{\\left(\\phi{\\left(t \\right)} \\right)} - 1.43 \\cdot 10^{-5} \\frac{d}{d t} \\operatorname{u_{4}}{\\left(t \\right)}\\\\- 0.5 ThrM_{1} l \\cos{\\left(\\phi{\\left(t \\right)} - \\psi{\\left(t \\right)} \\right)} - 0.5 ThrM_{1} l \\cos{\\left(\\phi{\\left(t \\right)} + \\psi{\\left(t \\right)} \\right)} + 0.5 ThrM_{2} l \\sin{\\left(\\phi{\\left(t \\right)} - \\psi{\\left(t \\right)} \\right)} - 0.5 ThrM_{2} l \\sin{\\left(\\phi{\\left(t \\right)} + \\psi{\\left(t \\right)} \\right)} + 0.5 ThrM_{3} l \\cos{\\left(\\phi{\\left(t \\right)} - \\psi{\\left(t \\right)} \\right)} + 0.5 ThrM_{3} l \\cos{\\left(\\phi{\\left(t \\right)} + \\psi{\\left(t \\right)} \\right)} - 0.5 ThrM_{4} l \\sin{\\left(\\phi{\\left(t \\right)} - \\psi{\\left(t \\right)} \\right)} + 0.5 ThrM_{4} l \\sin{\\left(\\phi{\\left(t \\right)} + \\psi{\\left(t \\right)} \\right)} + 1.0 TorM_{1} \\sin{\\left(\\phi{\\left(t \\right)} \\right)} - 1.0 TorM_{2} \\sin{\\left(\\phi{\\left(t \\right)} \\right)} + 1.0 TorM_{3} \\sin{\\left(\\phi{\\left(t \\right)} \\right)} - 1.0 TorM_{4} \\sin{\\left(\\phi{\\left(t \\right)} \\right)} - 1.46 \\cdot 10^{-5} \\operatorname{u_{4}}{\\left(t \\right)} \\operatorname{u_{5}}{\\left(t \\right)} \\sin{\\left(2 \\phi{\\left(t \\right)} \\right)} - 2.89 \\cdot 10^{-5} \\operatorname{u_{4}}{\\left(t \\right)} \\operatorname{u_{6}}{\\left(t \\right)} \\cos{\\left(\\phi{\\left(t \\right)} \\right)} - 2.89 \\cdot 10^{-5} \\sin{\\left(\\phi{\\left(t \\right)} \\right)} \\frac{d}{d t} \\operatorname{u_{6}}{\\left(t \\right)} + 7.3 \\cdot 10^{-6} \\cos{\\left(2 \\phi{\\left(t \\right)} \\right)} \\frac{d}{d t} \\operatorname{u_{5}}{\\left(t \\right)} - 2.16 \\cdot 10^{-5} \\frac{d}{d t} \\operatorname{u_{5}}{\\left(t \\right)}\\\\1.0 TorM_{1} - 1.0 TorM_{2} + 1.0 TorM_{3} - 1.0 TorM_{4} - 2.89 \\cdot 10^{-5} \\operatorname{u_{4}}{\\left(t \\right)} \\operatorname{u_{5}}{\\left(t \\right)} \\cos{\\left(\\phi{\\left(t \\right)} \\right)} - 2.89 \\cdot 10^{-5} \\sin{\\left(\\phi{\\left(t \\right)} \\right)} \\frac{d}{d t} \\operatorname{u_{5}}{\\left(t \\right)} - 2.89 \\cdot 10^{-5} \\frac{d}{d t} \\operatorname{u_{6}}{\\left(t \\right)}\\end{matrix}\\right]$"
      ],
      "text/plain": [
       "Matrix([\n",
       "[                                                                                                                                                                                                                                                                                                                                                                                                              ThrM1*sin(theta(t))*cos(phi(t)) + ThrM2*sin(theta(t))*cos(phi(t)) + ThrM3*sin(theta(t))*cos(phi(t)) + ThrM4*sin(theta(t))*cos(phi(t)) - m_drone*Derivative(u1(t), t)],\n",
       "[                                                                                                                                                                                                                                                                                                                                                                                                                                                                     -ThrM1*sin(phi(t)) - ThrM2*sin(phi(t)) - ThrM3*sin(phi(t)) - ThrM4*sin(phi(t)) - m_drone*Derivative(u2(t), t)],\n",
       "[                                                                                                                                                                                                                                                                                                                                                                                                 -ThrM1*cos(phi(t))*cos(theta(t)) - ThrM2*cos(phi(t))*cos(theta(t)) - ThrM3*cos(phi(t))*cos(theta(t)) - ThrM4*cos(phi(t))*cos(theta(t)) + g*m_drone - m_drone*Derivative(u3(t), t)],\n",
       "[                                                                                                                                                                                                                                                                                                                                                                -1.0*ThrM1*l*sin(psi(t)) + 1.0*ThrM2*l*cos(psi(t)) + 1.0*ThrM3*l*sin(psi(t)) - 1.0*ThrM4*l*cos(psi(t)) + 1.46e-5*u5(t)**2*sin(phi(t))*cos(phi(t)) + 2.89e-5*u5(t)*u6(t)*cos(phi(t)) - 1.43e-5*Derivative(u4(t), t)],\n",
       "[-0.5*ThrM1*l*cos(phi(t) - psi(t)) - 0.5*ThrM1*l*cos(phi(t) + psi(t)) + 0.5*ThrM2*l*sin(phi(t) - psi(t)) - 0.5*ThrM2*l*sin(phi(t) + psi(t)) + 0.5*ThrM3*l*cos(phi(t) - psi(t)) + 0.5*ThrM3*l*cos(phi(t) + psi(t)) - 0.5*ThrM4*l*sin(phi(t) - psi(t)) + 0.5*ThrM4*l*sin(phi(t) + psi(t)) + 1.0*TorM1*sin(phi(t)) - 1.0*TorM2*sin(phi(t)) + 1.0*TorM3*sin(phi(t)) - 1.0*TorM4*sin(phi(t)) - 1.46e-5*u4(t)*u5(t)*sin(2*phi(t)) - 2.89e-5*u4(t)*u6(t)*cos(phi(t)) - 2.89e-5*sin(phi(t))*Derivative(u6(t), t) + 7.3e-6*cos(2*phi(t))*Derivative(u5(t), t) - 2.16e-5*Derivative(u5(t), t)],\n",
       "[                                                                                                                                                                                                                                                                                                                                                                                                                         1.0*TorM1 - 1.0*TorM2 + 1.0*TorM3 - 1.0*TorM4 - 2.89e-5*u4(t)*u5(t)*cos(phi(t)) - 2.89e-5*sin(phi(t))*Derivative(u5(t), t) - 2.89e-5*Derivative(u6(t), t)]])"
      ]
     },
     "execution_count": 73,
     "metadata": {},
     "output_type": "execute_result"
    }
   ],
   "source": [
    "fr, frstar = kane.kanes_equations(bodies, loads)\n",
    "trigsimp(fr + frstar)"
   ]
  },
  {
   "cell_type": "code",
   "execution_count": 77,
   "metadata": {},
   "outputs": [
    {
     "ename": "TypeError",
     "evalue": "'int' object is not iterable",
     "output_type": "error",
     "traceback": [
      "\u001b[1;31m---------------------------------------------------------------------------\u001b[0m",
      "\u001b[1;31mTypeError\u001b[0m                                 Traceback (most recent call last)",
      "\u001b[1;32m<ipython-input-77-4535c7329d0c>\u001b[0m in \u001b[0;36m<module>\u001b[1;34m\u001b[0m\n\u001b[1;32m----> 1\u001b[1;33m \u001b[0mA\u001b[0m\u001b[1;33m,\u001b[0m \u001b[0mB\u001b[0m\u001b[1;33m,\u001b[0m \u001b[0minp_vec\u001b[0m \u001b[1;33m=\u001b[0m \u001b[0mkane\u001b[0m\u001b[1;33m.\u001b[0m\u001b[0mlinearize\u001b[0m\u001b[1;33m(\u001b[0m\u001b[0mA_and_B\u001b[0m\u001b[1;33m=\u001b[0m\u001b[1;32mTrue\u001b[0m\u001b[1;33m,\u001b[0m \u001b[0mop_point\u001b[0m\u001b[1;33m=\u001b[0m\u001b[1;33m[\u001b[0m\u001b[1;36m0\u001b[0m\u001b[1;33m,\u001b[0m \u001b[1;36m0\u001b[0m\u001b[1;33m,\u001b[0m \u001b[1;36m0\u001b[0m\u001b[1;33m,\u001b[0m \u001b[1;36m0\u001b[0m\u001b[1;33m,\u001b[0m \u001b[1;36m0\u001b[0m\u001b[1;33m,\u001b[0m \u001b[1;36m0\u001b[0m\u001b[1;33m]\u001b[0m\u001b[1;33m,\u001b[0m \u001b[0mnew_method\u001b[0m\u001b[1;33m=\u001b[0m\u001b[1;32mTrue\u001b[0m\u001b[1;33m)\u001b[0m\u001b[1;33m\u001b[0m\u001b[0m\n\u001b[0m",
      "\u001b[1;32m~\\AppData\\Roaming\\Python\\Python36\\site-packages\\sympy\\physics\\mechanics\\kane.py\u001b[0m in \u001b[0;36mlinearize\u001b[1;34m(self, new_method, **kwargs)\u001b[0m\n\u001b[0;32m    504\u001b[0m         For more documentation, please see the ``Linearizer`` class.\"\"\"\n\u001b[0;32m    505\u001b[0m         \u001b[0mlinearizer\u001b[0m \u001b[1;33m=\u001b[0m \u001b[0mself\u001b[0m\u001b[1;33m.\u001b[0m\u001b[0mto_linearizer\u001b[0m\u001b[1;33m(\u001b[0m\u001b[1;33m)\u001b[0m\u001b[1;33m\u001b[0m\u001b[0m\n\u001b[1;32m--> 506\u001b[1;33m         \u001b[0mresult\u001b[0m \u001b[1;33m=\u001b[0m \u001b[0mlinearizer\u001b[0m\u001b[1;33m.\u001b[0m\u001b[0mlinearize\u001b[0m\u001b[1;33m(\u001b[0m\u001b[1;33m**\u001b[0m\u001b[0mkwargs\u001b[0m\u001b[1;33m)\u001b[0m\u001b[1;33m\u001b[0m\u001b[0m\n\u001b[0m\u001b[0;32m    507\u001b[0m         \u001b[1;32mreturn\u001b[0m \u001b[0mresult\u001b[0m \u001b[1;33m+\u001b[0m \u001b[1;33m(\u001b[0m\u001b[0mlinearizer\u001b[0m\u001b[1;33m.\u001b[0m\u001b[0mr\u001b[0m\u001b[1;33m,\u001b[0m\u001b[1;33m)\u001b[0m\u001b[1;33m\u001b[0m\u001b[0m\n\u001b[0;32m    508\u001b[0m \u001b[1;33m\u001b[0m\u001b[0m\n",
      "\u001b[1;32m~\\AppData\\Roaming\\Python\\Python36\\site-packages\\sympy\\physics\\mechanics\\linearize.py\u001b[0m in \u001b[0;36mlinearize\u001b[1;34m(self, op_point, A_and_B, simplify)\u001b[0m\n\u001b[0;32m    269\u001b[0m             \u001b[0mop_point_dict\u001b[0m \u001b[1;33m=\u001b[0m \u001b[1;33m{\u001b[0m\u001b[1;33m}\u001b[0m\u001b[1;33m\u001b[0m\u001b[0m\n\u001b[0;32m    270\u001b[0m             \u001b[1;32mfor\u001b[0m \u001b[0mop\u001b[0m \u001b[1;32min\u001b[0m \u001b[0mop_point\u001b[0m\u001b[1;33m:\u001b[0m\u001b[1;33m\u001b[0m\u001b[0m\n\u001b[1;32m--> 271\u001b[1;33m                 \u001b[0mop_point_dict\u001b[0m\u001b[1;33m.\u001b[0m\u001b[0mupdate\u001b[0m\u001b[1;33m(\u001b[0m\u001b[0mop\u001b[0m\u001b[1;33m)\u001b[0m\u001b[1;33m\u001b[0m\u001b[0m\n\u001b[0m\u001b[0;32m    272\u001b[0m         \u001b[1;32melse\u001b[0m\u001b[1;33m:\u001b[0m\u001b[1;33m\u001b[0m\u001b[0m\n\u001b[0;32m    273\u001b[0m             \u001b[0mop_point_dict\u001b[0m \u001b[1;33m=\u001b[0m \u001b[1;33m{\u001b[0m\u001b[1;33m}\u001b[0m\u001b[1;33m\u001b[0m\u001b[0m\n",
      "\u001b[1;31mTypeError\u001b[0m: 'int' object is not iterable"
     ]
    }
   ],
   "source": [
    "op_point = {x: 0,y: 0, z: 0,phi: 0, theta: 0, psi: 0, u1: 0, u2: 0, u3: 0, u4: 0, u5: 0, u6: 0}\n",
    "A, B, inp_vec = kane.linearize(A_and_B=True, op_point=op_point, new_method=True)\n"
   ]
  },
  {
   "cell_type": "code",
   "execution_count": null,
   "metadata": {},
   "outputs": [
    {
     "data": {
      "text/latex": [
       "$\\displaystyle (- \\sin{\\left(\\theta{\\left(t \\right)} \\right)} \\cos{\\left(\\phi{\\left(t \\right)} \\right)} \\frac{d}{d t} \\psi{\\left(t \\right)} + \\cos{\\left(\\theta{\\left(t \\right)} \\right)} \\frac{d}{d t} \\phi{\\left(t \\right)})\\mathbf{\\hat{nrf}_x} + (\\sin{\\left(\\phi{\\left(t \\right)} \\right)} \\frac{d}{d t} \\psi{\\left(t \\right)} + \\frac{d}{d t} \\theta{\\left(t \\right)})\\mathbf{\\hat{nrf}_y} + (\\sin{\\left(\\theta{\\left(t \\right)} \\right)} \\frac{d}{d t} \\phi{\\left(t \\right)} + \\cos{\\left(\\phi{\\left(t \\right)} \\right)} \\cos{\\left(\\theta{\\left(t \\right)} \\right)} \\frac{d}{d t} \\psi{\\left(t \\right)})\\mathbf{\\hat{nrf}_z}$"
      ],
      "text/plain": [
       "(-sin(theta(t))*cos(phi(t))*Derivative(psi(t), t) + cos(theta(t))*Derivative(phi(t), t))*Nrf.x + (sin(phi(t))*Derivative(psi(t), t) + Derivative(theta(t), t))*Nrf.y + (sin(theta(t))*Derivative(phi(t), t) + cos(phi(t))*cos(theta(t))*Derivative(psi(t), t))*Nrf.z"
      ]
     },
     "execution_count": 74,
     "metadata": {},
     "output_type": "execute_result"
    }
   ],
   "source": [
    "# Should return Euler's Kinematical Equatoins\n",
    "# [p, q, r] = H * [phi_d, theta_d, psi_d]\n",
    "Nrf.ang_vel_in(Brf)"
   ]
  },
  {
   "cell_type": "code",
   "execution_count": null,
   "metadata": {},
   "outputs": [
    {
     "data": {
      "text/latex": [
       "$\\displaystyle \\left[\\begin{matrix}- \\sin{\\left(\\phi{\\left(t \\right)} \\right)} \\sin{\\left(\\psi{\\left(t \\right)} \\right)} \\sin{\\left(\\theta{\\left(t \\right)} \\right)} + \\cos{\\left(\\psi{\\left(t \\right)} \\right)} \\cos{\\left(\\theta{\\left(t \\right)} \\right)} & - \\sin{\\left(\\psi{\\left(t \\right)} \\right)} \\cos{\\left(\\phi{\\left(t \\right)} \\right)} & \\sin{\\left(\\phi{\\left(t \\right)} \\right)} \\sin{\\left(\\psi{\\left(t \\right)} \\right)} \\cos{\\left(\\theta{\\left(t \\right)} \\right)} + \\sin{\\left(\\theta{\\left(t \\right)} \\right)} \\cos{\\left(\\psi{\\left(t \\right)} \\right)}\\\\\\sin{\\left(\\phi{\\left(t \\right)} \\right)} \\sin{\\left(\\theta{\\left(t \\right)} \\right)} \\cos{\\left(\\psi{\\left(t \\right)} \\right)} + \\sin{\\left(\\psi{\\left(t \\right)} \\right)} \\cos{\\left(\\theta{\\left(t \\right)} \\right)} & \\cos{\\left(\\phi{\\left(t \\right)} \\right)} \\cos{\\left(\\psi{\\left(t \\right)} \\right)} & - \\sin{\\left(\\phi{\\left(t \\right)} \\right)} \\cos{\\left(\\psi{\\left(t \\right)} \\right)} \\cos{\\left(\\theta{\\left(t \\right)} \\right)} + \\sin{\\left(\\psi{\\left(t \\right)} \\right)} \\sin{\\left(\\theta{\\left(t \\right)} \\right)}\\\\- \\sin{\\left(\\theta{\\left(t \\right)} \\right)} \\cos{\\left(\\phi{\\left(t \\right)} \\right)} & \\sin{\\left(\\phi{\\left(t \\right)} \\right)} & \\cos{\\left(\\phi{\\left(t \\right)} \\right)} \\cos{\\left(\\theta{\\left(t \\right)} \\right)}\\end{matrix}\\right]$"
      ],
      "text/plain": [
       "Matrix([\n",
       "[-sin(phi(t))*sin(psi(t))*sin(theta(t)) + cos(psi(t))*cos(theta(t)), -sin(psi(t))*cos(phi(t)),  sin(phi(t))*sin(psi(t))*cos(theta(t)) + sin(theta(t))*cos(psi(t))],\n",
       "[ sin(phi(t))*sin(theta(t))*cos(psi(t)) + sin(psi(t))*cos(theta(t)),  cos(phi(t))*cos(psi(t)), -sin(phi(t))*cos(psi(t))*cos(theta(t)) + sin(psi(t))*sin(theta(t))],\n",
       "[                                        -sin(theta(t))*cos(phi(t)),              sin(phi(t)),                                          cos(phi(t))*cos(theta(t))]])"
      ]
     },
     "execution_count": 75,
     "metadata": {},
     "output_type": "execute_result"
    }
   ],
   "source": [
    "# Returns Brf to Nrf DCM\n",
    "Brf.dcm(Nrf)"
   ]
  },
  {
   "cell_type": "code",
   "execution_count": null,
   "metadata": {},
   "outputs": [
    {
     "data": {
      "text/latex": [
       "$\\displaystyle \\left[\\begin{matrix}- \\sin{\\left(\\phi{\\left(t \\right)} \\right)} \\sin{\\left(\\psi{\\left(t \\right)} \\right)} \\sin{\\left(\\theta{\\left(t \\right)} \\right)} + \\cos{\\left(\\psi{\\left(t \\right)} \\right)} \\cos{\\left(\\theta{\\left(t \\right)} \\right)} & - \\sin{\\left(\\psi{\\left(t \\right)} \\right)} \\cos{\\left(\\phi{\\left(t \\right)} \\right)} & \\sin{\\left(\\phi{\\left(t \\right)} \\right)} \\sin{\\left(\\psi{\\left(t \\right)} \\right)} \\cos{\\left(\\theta{\\left(t \\right)} \\right)} + \\sin{\\left(\\theta{\\left(t \\right)} \\right)} \\cos{\\left(\\psi{\\left(t \\right)} \\right)}\\\\\\sin{\\left(\\phi{\\left(t \\right)} \\right)} \\sin{\\left(\\theta{\\left(t \\right)} \\right)} \\cos{\\left(\\psi{\\left(t \\right)} \\right)} + \\sin{\\left(\\psi{\\left(t \\right)} \\right)} \\cos{\\left(\\theta{\\left(t \\right)} \\right)} & \\cos{\\left(\\phi{\\left(t \\right)} \\right)} \\cos{\\left(\\psi{\\left(t \\right)} \\right)} & - \\sin{\\left(\\phi{\\left(t \\right)} \\right)} \\cos{\\left(\\psi{\\left(t \\right)} \\right)} \\cos{\\left(\\theta{\\left(t \\right)} \\right)} + \\sin{\\left(\\psi{\\left(t \\right)} \\right)} \\sin{\\left(\\theta{\\left(t \\right)} \\right)}\\\\- \\sin{\\left(\\theta{\\left(t \\right)} \\right)} \\cos{\\left(\\phi{\\left(t \\right)} \\right)} & \\sin{\\left(\\phi{\\left(t \\right)} \\right)} & \\cos{\\left(\\phi{\\left(t \\right)} \\right)} \\cos{\\left(\\theta{\\left(t \\right)} \\right)}\\end{matrix}\\right]$"
      ],
      "text/plain": [
       "Matrix([\n",
       "[-sin(phi(t))*sin(psi(t))*sin(theta(t)) + cos(psi(t))*cos(theta(t)), -sin(psi(t))*cos(phi(t)),  sin(phi(t))*sin(psi(t))*cos(theta(t)) + sin(theta(t))*cos(psi(t))],\n",
       "[ sin(phi(t))*sin(theta(t))*cos(psi(t)) + sin(psi(t))*cos(theta(t)),  cos(phi(t))*cos(psi(t)), -sin(phi(t))*cos(psi(t))*cos(theta(t)) + sin(psi(t))*sin(theta(t))],\n",
       "[                                        -sin(theta(t))*cos(phi(t)),              sin(phi(t)),                                          cos(phi(t))*cos(theta(t))]])"
      ]
     },
     "execution_count": 76,
     "metadata": {},
     "output_type": "execute_result"
    }
   ],
   "source": [
    "BrfToNrf"
   ]
  }
 ],
 "metadata": {
  "kernelspec": {
   "display_name": "Python 3",
   "language": "python",
   "name": "python3"
  },
  "language_info": {
   "codemirror_mode": {
    "name": "ipython",
    "version": 3
   },
   "file_extension": ".py",
   "mimetype": "text/x-python",
   "name": "python",
   "nbconvert_exporter": "python",
   "pygments_lexer": "ipython3",
   "version": "3.6.1"
  },
  "orig_nbformat": 4
 },
 "nbformat": 4,
 "nbformat_minor": 2
}
