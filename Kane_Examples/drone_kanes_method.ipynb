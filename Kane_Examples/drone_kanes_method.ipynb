{
 "cells": [
  {
   "cell_type": "markdown",
   "metadata": {},
   "source": [
    "### Generating Quadrotor EoMs using Kane's Method and Sympy\n",
    "\n",
    "![Drone image](imgs/drone.PNG)\n",
    "\n",
    "Modeling a CrazyFlie 2.0 Drone \n",
    "Using Project guide from Temple University MEE 411/5411:\n",
    "https://github.com/BAmercury/MobileRobotics_Project2/blob/1a99b41272352da760fc6c3ba6914aceb616297c/Project2-Phase1.pdf\n",
    "Thanks to Dr. Phillip Dames\n",
    "\n",
    "#### Given:\n",
    "mass: m = 0.030 kg\n",
    "Distance from CoM to axis of a motor: L = 0.046 m\n",
    "Inertia in the body-fixed frame:\n",
    "![Drone inertia matrix](imgs/drone_inertia.PNG)\n",
    "\n",
    "#### Motor Model:\n",
    "\n",
    "Each rotor has an angular speed $\\omega$<sub>i</sub> and produces a vertical force F<sub>i</sub> according to this simple model:\n",
    "\n",
    "F<sub>i</sub> = k<sub>F</sub> * $\\omega$<sub>i</sub><sup>2</sup>\n",
    "\n",
    "k<sub>F</sub> ~= 6.11 * 10<sup>-8</sup>N/rpm<sup>2</sup>\n",
    "\n",
    "Rotors also produce a moment according to:\n",
    "\n",
    "M<sub>i</sub> = k<sub>M</sub> * $\\omega$<sub>i</sub><sup>2</sup>\n",
    "\n",
    "with k<sub>M</sub> = 1.5 * 10<sup>-9</sup>Nm/rpm<sup>2</sup>\n",
    "\n",
    "Through system ID, rotor speed can be related to commanded speed through this first order ODE:\n",
    "\n",
    "$\\dot{w}$ = k<sub>m</sub> * ($\\omega$<sub>i</sub><sup>des</sup> - $\\omega$<sub>i</sub>)\n",
    "\n",
    "Motor gain k<sub>m</sub> was found to be 20s<sup>-1</sup> by matching performance of the simulation with the real system\n",
    "\n"
   ]
  },
  {
   "cell_type": "code",
   "execution_count": 1,
   "metadata": {},
   "outputs": [],
   "source": [
    "from sympy.physics.mechanics import *\n",
    "from sympy import symbols, trigsimp\n",
    "from numpy import deg2rad, rad2deg, array, zeros, linspace, pi\n",
    "from scipy.integrate import odeint\n",
    "from sympy.functions.elementary.trigonometric import sin, cos\n",
    "from sympy import Matrix\n",
    "from pydy.codegen.ode_function_generators import generate_ode_function\n",
    "\n",
    "from sympy.physics.vector import init_vprinting\n",
    "import matplotlib.pyplot as plt\n"
   ]
  },
  {
   "cell_type": "code",
   "execution_count": 33,
   "metadata": {},
   "outputs": [],
   "source": [
    "# Define state vector\n",
    "\n",
    "# ZXY Euler angles: Roll Pitch Yaw Euler angles in inertial frame\n",
    "theta, phi, psi = dynamicsymbols('theta phi psi') # drone orientation expressed in inertial frame\n",
    "thetadot, phidot, psidot = dynamicsymbols('theta phi psi', 1) # drone angular velocity expressed in inertial frame\n",
    "\n",
    "# Body rates \n",
    "p, q, r = dynamicsymbols('p q r') # drone angular velocity in the body frame\n",
    "pdot, qdot, rdot = dynamicsymbols('p q r', 1) \n",
    "\n",
    "# X Y Z translation in inertial frame\n",
    "x, y, z = dynamicsymbols('x y z')\n",
    "xd, yd, zd = dynamicsymbols('x y z', 1)\n",
    "# Generalized speeds\n",
    "# Define the translation speeds in the inertial frame\n",
    "# Define the rotational speeds in the body frame to simplify the process, otherwise the equations come out pretty ugly\n",
    "# u1 = xd\n",
    "# u2 = yd\n",
    "# u3 = zd\n",
    "# u4 = p\n",
    "# u5 = q\n",
    "# u6 = r\n",
    "u1, u2, u3, u4, u5, u6 = dynamicsymbols('u1 u2 u3 u4 u5 u6')\n",
    "u1d, u2d, u3d, u4d, u5d, u6d = dynamicsymbols('u1 u2 u3 u4 u5 u6', 1)\n",
    "\n",
    "\n",
    "# Define Reference Frames\n",
    "Nrf = ReferenceFrame('Nrf') # Inertial Reference Frame\n",
    "# Body Fixed Reference Frame\n",
    "# Z-X-Y Euler rotation, will write the DCM directly for sympy\n",
    "cpsi = cos(psi)\n",
    "spsi = sin(psi)\n",
    "ctheta = cos(theta)\n",
    "stheta = sin(theta)\n",
    "cphi = cos(phi)\n",
    "sphi = sin(phi)\n",
    "\n",
    "c11 = cpsi*ctheta - sphi*spsi*stheta\n",
    "c12 = -cphi*spsi\n",
    "c13 = cpsi*stheta + ctheta*spsi*sphi\n",
    "c21 = ctheta*spsi + cpsi*sphi*stheta\n",
    "c22 = cphi*cpsi\n",
    "c23 = spsi*stheta - cpsi*ctheta*sphi\n",
    "c31 = -cphi*stheta\n",
    "c32 = sphi\n",
    "c33 = cphi*ctheta\n",
    "\n",
    "BrfToNrf = Matrix([[c11, c12, c13],\n",
    "                   [c21, c22, c23],\n",
    "                   [c31, c32, c33]])\n",
    "\n",
    "# Euler Kinematical Equations matrix\n",
    "inertial2bodyrates = Matrix([[ctheta, 0, -cphi*stheta],\n",
    "                             [0,      1,  sphi],\n",
    "                             [stheta, 0,  cphi*ctheta]])\n",
    "\n",
    "# Body frame is attached to CoM of drone\n",
    "# b1 coincides with forward direction\n",
    "# b3 is perpendicular ot plane of rotors pointing vertically up during hover\n",
    "# body frame is parallel to principal axes\n",
    "Brf = Nrf.orientnew('Brf', 'DCM', BrfToNrf)\n",
    "\n",
    "# Set angular velocity of these frames\n",
    "#pqr_vec = inertial2bodyrates * Matrix([phidot, thetadot, psidot])\n",
    "Brf.set_ang_vel(Nrf, u4*Brf.x + u5*Brf.y + u6*Brf.z)\n",
    "\n",
    "# Define Locations\n",
    "O = Point('O') # Inertial origin\n",
    "O.set_vel(Nrf, 0)\n",
    "\n",
    "# CoM of Drone\n",
    "d_CG = Point('d_CG')\n",
    "# Set the CG position and velocity\n",
    "d_CG.set_pos(O, x*Nrf.x + y*Nrf.y + z*Nrf.z)\n",
    "# Define using generalized speeds\n",
    "d_CG.set_vel(Nrf, u1*Nrf.x + u2*Nrf.y + u3*Nrf.z)\n",
    "# Location of rotor motors\n",
    "l = symbols('l') # length between drone cg and motor location\n",
    "M1p = d_CG.locatenew('M1p', l*Brf.x)\n",
    "M2p = d_CG.locatenew('M2p', l*Brf.y)\n",
    "M3p = d_CG.locatenew('M3p', -l*Brf.x)\n",
    "M4p = d_CG.locatenew('M4p', -l*Brf.y)\n",
    "\n",
    "M1p.v2pt_theory(d_CG, Nrf, Brf)\n",
    "M2p.v2pt_theory(d_CG, Nrf, Brf)\n",
    "M3p.v2pt_theory(d_CG, Nrf, Brf)\n",
    "M4p.v2pt_theory(d_CG, Nrf, Brf)\n",
    "\n",
    "# Gather everything into lists\n",
    "# X Y Z translation\n",
    "coordinates = [x, y, z, phi, theta, psi]\n",
    "speeds = [u1, u2, u3, u4, u5, u6]\n",
    "\n",
    "# Kinematic Differential Equations\n",
    "# Kinematic relationship between inertial rates and body rates\n",
    "pqr_vec = inertial2bodyrates * Matrix([phidot, thetadot, psidot])\n",
    "\n",
    "kde = [u1 - xd, u2 - yd, u4 - zd, u4 - pqr_vec[0], u5 - pqr_vec[1], u6 - pqr_vec[2]]\n",
    "\n",
    "\n",
    "# initial kane's object\n",
    "kane = KanesMethod(Nrf, q_ind=coordinates, u_ind=speeds, kd_eqs =kde)\n",
    "\n",
    "# inertia dynamics\n",
    "# inertia(N, 1, 2, 3, 4, 5, 6).to_matrix(N)\n",
    "# Matrix([\n",
    "#[1, 4, 6],\n",
    "#[4, 2, 5],\n",
    "#[6, 5, 3]])\n",
    "I_x, I_y, I_z, m_drone = symbols('I_X I_Y I_Z m_drone') # Inertia of drone and mass \n",
    "#itd = inertia(Brf, 1.43e-5, 1.43e-5, 2.89e-5, 0, 0, 0)\n",
    "itd = inertia(Brf, I_x, I_y, I_z)\n",
    "\n",
    "i1 = (itd, d_CG)\n",
    "# Define rigid body objects\n",
    "drone_body = RigidBody('drone_body', d_CG, Brf, m_drone, i1)\n",
    "\n",
    "# Define forces and point of application\n",
    "# Gravity\n",
    "g = symbols('g') # gravity\n",
    "# Thrust and Torque from each motor \n",
    "F1, F2, F3, F4, M1, M2, M3, M4 = symbols('F1 F2 F3 F4 M1 M2 M3 M4')\n",
    "f_g = (d_CG, m_drone*g*Nrf.z)\n",
    "f_M1 = (M1p, -F1*Brf.z)\n",
    "f_M2 = (M2p, -F2*Brf.z)\n",
    "f_M3 = (M3p, -F3*Brf.z)\n",
    "f_M4 = (M4p, -F4*Brf.z)\n",
    "\n",
    "t_M1 = (Brf, -M1*Brf.z) # CCW\n",
    "t_M2 = (Brf, M2*Brf.z) # CW\n",
    "t_M3 = (Brf, -M3*Brf.z) # CCW\n",
    "t_M4 = (Brf, M4*Brf.z) # CW\n",
    "\n",
    "loads = [f_g, f_M1, f_M2, f_M3, f_M4, t_M1, t_M2, t_M3, t_M4]\n",
    "bodies = [drone_body]\n",
    "\n",
    "\n",
    "\n"
   ]
  },
  {
   "cell_type": "code",
   "execution_count": 26,
   "metadata": {},
   "outputs": [
    {
     "data": {
      "text/latex": [
       "$\\displaystyle \\frac{d}{d t} x{\\left(t \\right)}\\mathbf{\\hat{nrf}_x} + \\frac{d}{d t} y{\\left(t \\right)}\\mathbf{\\hat{nrf}_y} + \\frac{d}{d t} z{\\left(t \\right)}\\mathbf{\\hat{nrf}_z}$"
      ],
      "text/plain": [
       "Derivative(x(t), t)*Nrf.x + Derivative(y(t), t)*Nrf.y + Derivative(z(t), t)*Nrf.z"
      ]
     },
     "execution_count": 26,
     "metadata": {},
     "output_type": "execute_result"
    }
   ],
   "source": [
    "d_CG.pos_from(O).dt(Nrf)"
   ]
  },
  {
   "cell_type": "code",
   "execution_count": 27,
   "metadata": {},
   "outputs": [
    {
     "data": {
      "text/plain": [
       "[u1(t) - Derivative(x(t), t),\n",
       " u2(t) - Derivative(y(t), t),\n",
       " u4(t) - Derivative(z(t), t),\n",
       " u4(t) + sin(theta(t))*cos(phi(t))*Derivative(psi(t), t) - cos(theta(t))*Derivative(phi(t), t),\n",
       " u5(t) - sin(phi(t))*Derivative(psi(t), t) - Derivative(theta(t), t),\n",
       " u6(t) - sin(theta(t))*Derivative(phi(t), t) - cos(phi(t))*cos(theta(t))*Derivative(psi(t), t)]"
      ]
     },
     "execution_count": 27,
     "metadata": {},
     "output_type": "execute_result"
    }
   ],
   "source": [
    "kde"
   ]
  },
  {
   "cell_type": "code",
   "execution_count": 28,
   "metadata": {},
   "outputs": [
    {
     "data": {
      "text/latex": [
       "$\\displaystyle \\sin{\\left(\\phi{\\left(t \\right)} \\right)} \\frac{d}{d t} \\psi{\\left(t \\right)} + \\frac{d}{d t} \\theta{\\left(t \\right)}$"
      ],
      "text/plain": [
       "sin(phi(t))*Derivative(psi(t), t) + Derivative(theta(t), t)"
      ]
     },
     "execution_count": 28,
     "metadata": {},
     "output_type": "execute_result"
    }
   ],
   "source": [
    "pqr_vec = inertial2bodyrates * Matrix([phidot, thetadot, psidot])\n",
    "pqr_vec[1]\n"
   ]
  },
  {
   "cell_type": "code",
   "execution_count": 29,
   "metadata": {},
   "outputs": [
    {
     "data": {
      "text/latex": [
       "$\\displaystyle -  \\operatorname{u_{4}}{\\left(t \\right)}\\mathbf{\\hat{brf}_x} -  \\operatorname{u_{5}}{\\left(t \\right)}\\mathbf{\\hat{brf}_y} -  \\operatorname{u_{6}}{\\left(t \\right)}\\mathbf{\\hat{brf}_z}$"
      ],
      "text/plain": [
       "- u4(t)*Brf.x - u5(t)*Brf.y - u6(t)*Brf.z"
      ]
     },
     "execution_count": 29,
     "metadata": {},
     "output_type": "execute_result"
    }
   ],
   "source": [
    "# Should return Euler's Kinematical Equations\n",
    "# [p, q, r] = H * [phi_d, theta_d, psi_d]\n",
    "Nrf.ang_vel_in(Brf)"
   ]
  },
  {
   "cell_type": "code",
   "execution_count": 30,
   "metadata": {},
   "outputs": [
    {
     "data": {
      "text/latex": [
       "$\\displaystyle \\operatorname{u_{4}}{\\left(t \\right)}\\mathbf{\\hat{brf}_x} + \\operatorname{u_{5}}{\\left(t \\right)}\\mathbf{\\hat{brf}_y} + \\operatorname{u_{6}}{\\left(t \\right)}\\mathbf{\\hat{brf}_z}$"
      ],
      "text/plain": [
       "u4(t)*Brf.x + u5(t)*Brf.y + u6(t)*Brf.z"
      ]
     },
     "execution_count": 30,
     "metadata": {},
     "output_type": "execute_result"
    }
   ],
   "source": [
    "Brf.ang_vel_in(Nrf)"
   ]
  },
  {
   "cell_type": "code",
   "execution_count": 31,
   "metadata": {},
   "outputs": [
    {
     "data": {
      "text/latex": [
       "$\\displaystyle \\left[\\begin{matrix}- \\sin{\\left(\\phi{\\left(t \\right)} \\right)} \\sin{\\left(\\psi{\\left(t \\right)} \\right)} \\sin{\\left(\\theta{\\left(t \\right)} \\right)} + \\cos{\\left(\\psi{\\left(t \\right)} \\right)} \\cos{\\left(\\theta{\\left(t \\right)} \\right)} & \\sin{\\left(\\phi{\\left(t \\right)} \\right)} \\sin{\\left(\\theta{\\left(t \\right)} \\right)} \\cos{\\left(\\psi{\\left(t \\right)} \\right)} + \\sin{\\left(\\psi{\\left(t \\right)} \\right)} \\cos{\\left(\\theta{\\left(t \\right)} \\right)} & - \\sin{\\left(\\theta{\\left(t \\right)} \\right)} \\cos{\\left(\\phi{\\left(t \\right)} \\right)}\\\\- \\sin{\\left(\\psi{\\left(t \\right)} \\right)} \\cos{\\left(\\phi{\\left(t \\right)} \\right)} & \\cos{\\left(\\phi{\\left(t \\right)} \\right)} \\cos{\\left(\\psi{\\left(t \\right)} \\right)} & \\sin{\\left(\\phi{\\left(t \\right)} \\right)}\\\\\\sin{\\left(\\phi{\\left(t \\right)} \\right)} \\sin{\\left(\\psi{\\left(t \\right)} \\right)} \\cos{\\left(\\theta{\\left(t \\right)} \\right)} + \\sin{\\left(\\theta{\\left(t \\right)} \\right)} \\cos{\\left(\\psi{\\left(t \\right)} \\right)} & - \\sin{\\left(\\phi{\\left(t \\right)} \\right)} \\cos{\\left(\\psi{\\left(t \\right)} \\right)} \\cos{\\left(\\theta{\\left(t \\right)} \\right)} + \\sin{\\left(\\psi{\\left(t \\right)} \\right)} \\sin{\\left(\\theta{\\left(t \\right)} \\right)} & \\cos{\\left(\\phi{\\left(t \\right)} \\right)} \\cos{\\left(\\theta{\\left(t \\right)} \\right)}\\end{matrix}\\right]$"
      ],
      "text/plain": [
       "Matrix([\n",
       "[-sin(phi(t))*sin(psi(t))*sin(theta(t)) + cos(psi(t))*cos(theta(t)),  sin(phi(t))*sin(theta(t))*cos(psi(t)) + sin(psi(t))*cos(theta(t)), -sin(theta(t))*cos(phi(t))],\n",
       "[                                          -sin(psi(t))*cos(phi(t)),                                            cos(phi(t))*cos(psi(t)),                sin(phi(t))],\n",
       "[ sin(phi(t))*sin(psi(t))*cos(theta(t)) + sin(theta(t))*cos(psi(t)), -sin(phi(t))*cos(psi(t))*cos(theta(t)) + sin(psi(t))*sin(theta(t)),  cos(phi(t))*cos(theta(t))]])"
      ]
     },
     "execution_count": 31,
     "metadata": {},
     "output_type": "execute_result"
    }
   ],
   "source": [
    "# Returns Brf to Nrf DCM\n",
    "Brf.dcm(Nrf)"
   ]
  },
  {
   "cell_type": "code",
   "execution_count": 19,
   "metadata": {},
   "outputs": [
    {
     "data": {
      "text/latex": [
       "$\\displaystyle \\left[\\begin{matrix}- \\sin{\\left(\\phi{\\left(t \\right)} \\right)} \\sin{\\left(\\psi{\\left(t \\right)} \\right)} \\sin{\\left(\\theta{\\left(t \\right)} \\right)} + \\cos{\\left(\\psi{\\left(t \\right)} \\right)} \\cos{\\left(\\theta{\\left(t \\right)} \\right)} & - \\sin{\\left(\\psi{\\left(t \\right)} \\right)} \\cos{\\left(\\phi{\\left(t \\right)} \\right)} & \\sin{\\left(\\phi{\\left(t \\right)} \\right)} \\sin{\\left(\\psi{\\left(t \\right)} \\right)} \\cos{\\left(\\theta{\\left(t \\right)} \\right)} + \\sin{\\left(\\theta{\\left(t \\right)} \\right)} \\cos{\\left(\\psi{\\left(t \\right)} \\right)}\\\\\\sin{\\left(\\phi{\\left(t \\right)} \\right)} \\sin{\\left(\\theta{\\left(t \\right)} \\right)} \\cos{\\left(\\psi{\\left(t \\right)} \\right)} + \\sin{\\left(\\psi{\\left(t \\right)} \\right)} \\cos{\\left(\\theta{\\left(t \\right)} \\right)} & \\cos{\\left(\\phi{\\left(t \\right)} \\right)} \\cos{\\left(\\psi{\\left(t \\right)} \\right)} & - \\sin{\\left(\\phi{\\left(t \\right)} \\right)} \\cos{\\left(\\psi{\\left(t \\right)} \\right)} \\cos{\\left(\\theta{\\left(t \\right)} \\right)} + \\sin{\\left(\\psi{\\left(t \\right)} \\right)} \\sin{\\left(\\theta{\\left(t \\right)} \\right)}\\\\- \\sin{\\left(\\theta{\\left(t \\right)} \\right)} \\cos{\\left(\\phi{\\left(t \\right)} \\right)} & \\sin{\\left(\\phi{\\left(t \\right)} \\right)} & \\cos{\\left(\\phi{\\left(t \\right)} \\right)} \\cos{\\left(\\theta{\\left(t \\right)} \\right)}\\end{matrix}\\right]$"
      ],
      "text/plain": [
       "Matrix([\n",
       "[-sin(phi(t))*sin(psi(t))*sin(theta(t)) + cos(psi(t))*cos(theta(t)), -sin(psi(t))*cos(phi(t)),  sin(phi(t))*sin(psi(t))*cos(theta(t)) + sin(theta(t))*cos(psi(t))],\n",
       "[ sin(phi(t))*sin(theta(t))*cos(psi(t)) + sin(psi(t))*cos(theta(t)),  cos(phi(t))*cos(psi(t)), -sin(phi(t))*cos(psi(t))*cos(theta(t)) + sin(psi(t))*sin(theta(t))],\n",
       "[                                        -sin(theta(t))*cos(phi(t)),              sin(phi(t)),                                          cos(phi(t))*cos(theta(t))]])"
      ]
     },
     "execution_count": 19,
     "metadata": {},
     "output_type": "execute_result"
    }
   ],
   "source": [
    "BrfToNrf"
   ]
  },
  {
   "cell_type": "code",
   "execution_count": 34,
   "metadata": {},
   "outputs": [
    {
     "data": {
      "text/latex": [
       "$\\displaystyle \\left[\\begin{matrix}- F_{1} \\sin{\\left(\\phi{\\left(t \\right)} \\right)} \\sin{\\left(\\psi{\\left(t \\right)} \\right)} \\cos{\\left(\\theta{\\left(t \\right)} \\right)} - F_{1} \\sin{\\left(\\theta{\\left(t \\right)} \\right)} \\cos{\\left(\\psi{\\left(t \\right)} \\right)} - F_{2} \\sin{\\left(\\phi{\\left(t \\right)} \\right)} \\sin{\\left(\\psi{\\left(t \\right)} \\right)} \\cos{\\left(\\theta{\\left(t \\right)} \\right)} - F_{2} \\sin{\\left(\\theta{\\left(t \\right)} \\right)} \\cos{\\left(\\psi{\\left(t \\right)} \\right)} - F_{3} \\sin{\\left(\\phi{\\left(t \\right)} \\right)} \\sin{\\left(\\psi{\\left(t \\right)} \\right)} \\cos{\\left(\\theta{\\left(t \\right)} \\right)} - F_{3} \\sin{\\left(\\theta{\\left(t \\right)} \\right)} \\cos{\\left(\\psi{\\left(t \\right)} \\right)} - F_{4} \\sin{\\left(\\phi{\\left(t \\right)} \\right)} \\sin{\\left(\\psi{\\left(t \\right)} \\right)} \\cos{\\left(\\theta{\\left(t \\right)} \\right)} - F_{4} \\sin{\\left(\\theta{\\left(t \\right)} \\right)} \\cos{\\left(\\psi{\\left(t \\right)} \\right)} - m_{drone} \\frac{d}{d t} \\operatorname{u_{1}}{\\left(t \\right)}\\\\- F_{1} \\left(- \\sin{\\left(\\phi{\\left(t \\right)} \\right)} \\cos{\\left(\\psi{\\left(t \\right)} \\right)} \\cos{\\left(\\theta{\\left(t \\right)} \\right)} + \\sin{\\left(\\psi{\\left(t \\right)} \\right)} \\sin{\\left(\\theta{\\left(t \\right)} \\right)}\\right) - F_{2} \\left(- \\sin{\\left(\\phi{\\left(t \\right)} \\right)} \\cos{\\left(\\psi{\\left(t \\right)} \\right)} \\cos{\\left(\\theta{\\left(t \\right)} \\right)} + \\sin{\\left(\\psi{\\left(t \\right)} \\right)} \\sin{\\left(\\theta{\\left(t \\right)} \\right)}\\right) - F_{3} \\left(- \\sin{\\left(\\phi{\\left(t \\right)} \\right)} \\cos{\\left(\\psi{\\left(t \\right)} \\right)} \\cos{\\left(\\theta{\\left(t \\right)} \\right)} + \\sin{\\left(\\psi{\\left(t \\right)} \\right)} \\sin{\\left(\\theta{\\left(t \\right)} \\right)}\\right) - F_{4} \\left(- \\sin{\\left(\\phi{\\left(t \\right)} \\right)} \\cos{\\left(\\psi{\\left(t \\right)} \\right)} \\cos{\\left(\\theta{\\left(t \\right)} \\right)} + \\sin{\\left(\\psi{\\left(t \\right)} \\right)} \\sin{\\left(\\theta{\\left(t \\right)} \\right)}\\right) - m_{drone} \\frac{d}{d t} \\operatorname{u_{2}}{\\left(t \\right)}\\\\- F_{1} \\cos{\\left(\\phi{\\left(t \\right)} \\right)} \\cos{\\left(\\theta{\\left(t \\right)} \\right)} - F_{2} \\cos{\\left(\\phi{\\left(t \\right)} \\right)} \\cos{\\left(\\theta{\\left(t \\right)} \\right)} - F_{3} \\cos{\\left(\\phi{\\left(t \\right)} \\right)} \\cos{\\left(\\theta{\\left(t \\right)} \\right)} - F_{4} \\cos{\\left(\\phi{\\left(t \\right)} \\right)} \\cos{\\left(\\theta{\\left(t \\right)} \\right)} + g m_{drone} - m_{drone} \\frac{d}{d t} \\operatorname{u_{3}}{\\left(t \\right)}\\\\- F_{2} l + F_{4} l - I_{X} \\frac{d}{d t} \\operatorname{u_{4}}{\\left(t \\right)} + I_{Y} \\operatorname{u_{5}}{\\left(t \\right)} \\operatorname{u_{6}}{\\left(t \\right)} - I_{Z} \\operatorname{u_{5}}{\\left(t \\right)} \\operatorname{u_{6}}{\\left(t \\right)}\\\\F_{1} l - F_{3} l - I_{X} \\operatorname{u_{4}}{\\left(t \\right)} \\operatorname{u_{6}}{\\left(t \\right)} - I_{Y} \\frac{d}{d t} \\operatorname{u_{5}}{\\left(t \\right)} + I_{Z} \\operatorname{u_{4}}{\\left(t \\right)} \\operatorname{u_{6}}{\\left(t \\right)}\\\\I_{X} \\operatorname{u_{4}}{\\left(t \\right)} \\operatorname{u_{5}}{\\left(t \\right)} - I_{Y} \\operatorname{u_{4}}{\\left(t \\right)} \\operatorname{u_{5}}{\\left(t \\right)} - I_{Z} \\frac{d}{d t} \\operatorname{u_{6}}{\\left(t \\right)} - M_{1} + M_{2} - M_{3} + M_{4}\\end{matrix}\\right]$"
      ],
      "text/plain": [
       "Matrix([\n",
       "[-F1*sin(phi(t))*sin(psi(t))*cos(theta(t)) - F1*sin(theta(t))*cos(psi(t)) - F2*sin(phi(t))*sin(psi(t))*cos(theta(t)) - F2*sin(theta(t))*cos(psi(t)) - F3*sin(phi(t))*sin(psi(t))*cos(theta(t)) - F3*sin(theta(t))*cos(psi(t)) - F4*sin(phi(t))*sin(psi(t))*cos(theta(t)) - F4*sin(theta(t))*cos(psi(t)) - m_drone*Derivative(u1(t), t)],\n",
       "[-F1*(-sin(phi(t))*cos(psi(t))*cos(theta(t)) + sin(psi(t))*sin(theta(t))) - F2*(-sin(phi(t))*cos(psi(t))*cos(theta(t)) + sin(psi(t))*sin(theta(t))) - F3*(-sin(phi(t))*cos(psi(t))*cos(theta(t)) + sin(psi(t))*sin(theta(t))) - F4*(-sin(phi(t))*cos(psi(t))*cos(theta(t)) + sin(psi(t))*sin(theta(t))) - m_drone*Derivative(u2(t), t)],\n",
       "[                                                                                                                                                                -F1*cos(phi(t))*cos(theta(t)) - F2*cos(phi(t))*cos(theta(t)) - F3*cos(phi(t))*cos(theta(t)) - F4*cos(phi(t))*cos(theta(t)) + g*m_drone - m_drone*Derivative(u3(t), t)],\n",
       "[                                                                                                                                                                                                                                                          -F2*l + F4*l - I_X*Derivative(u4(t), t) + I_Y*u5(t)*u6(t) - I_Z*u5(t)*u6(t)],\n",
       "[                                                                                                                                                                                                                                                           F1*l - F3*l - I_X*u4(t)*u6(t) - I_Y*Derivative(u5(t), t) + I_Z*u4(t)*u6(t)],\n",
       "[                                                                                                                                                                                                                                                     I_X*u4(t)*u5(t) - I_Y*u4(t)*u5(t) - I_Z*Derivative(u6(t), t) - M1 + M2 - M3 + M4]])"
      ]
     },
     "execution_count": 34,
     "metadata": {},
     "output_type": "execute_result"
    }
   ],
   "source": [
    "fr, frstar = kane.kanes_equations(bodies, loads)\n",
    "trigsimp(fr + frstar)"
   ]
  }
 ],
 "metadata": {
  "kernelspec": {
   "display_name": "Python 3",
   "language": "python",
   "name": "python3"
  },
  "language_info": {
   "codemirror_mode": {
    "name": "ipython",
    "version": 3
   },
   "file_extension": ".py",
   "mimetype": "text/x-python",
   "name": "python",
   "nbconvert_exporter": "python",
   "pygments_lexer": "ipython3",
   "version": "3.6.1"
  },
  "orig_nbformat": 4
 },
 "nbformat": 4,
 "nbformat_minor": 2
}
