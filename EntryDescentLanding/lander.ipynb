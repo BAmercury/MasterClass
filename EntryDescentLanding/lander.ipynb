{
 "cells": [
  {
   "cell_type": "markdown",
   "metadata": {},
   "source": [
    "Lander Examples"
   ]
  },
  {
   "cell_type": "code",
   "execution_count": null,
   "metadata": {},
   "outputs": [],
   "source": [
    "using DifferentialEquations, Plots, LinearAlgebra\n",
    "using ComponentArrays\n",
    "using FiniteDiff"
   ]
  },
  {
   "cell_type": "code",
   "execution_count": null,
   "metadata": {},
   "outputs": [],
   "source": [
    "function lander_dynamics(s, u, p, t)\n",
    "    # State vector: [theta, theta_dot, x, y, x_dot, y_dot]\n",
    "    dx[1] = s[2] # thetadot\n",
    "    dx[3] = s[5] # xdot\n",
    "    dx[4] = s[6] # ydot\n",
    "    # Control input: u = [T_rwa, F_thrust]\n",
    "    dx[2] = u[1]/p.J # theta_dd\n",
    "    dx[5] = (u[2] * cos(s[1]))/p.m # xdd\n",
    "    dx[6] = (u[2] * sin(s[1]) - p.G*p.Mmoon*p.m/s[4]^2)/p.m# ydd\n",
    "\n",
    "    return dx\n",
    "\n",
    "end\n",
    "\n",
    "# Goal\n",
    "# State vector: [theta, theta_dot, x, y, x_dot, y_dot]\n",
    "# Let x and y be free variables though \n",
    "x_goal = [0, 0, 0, 0, 0, 0]\n",
    "\n",
    "\n",
    "function condition(x, t, integrator)\n",
    "    s[4]\n",
    "end"
   ]
  }
 ],
 "metadata": {
  "kernelspec": {
   "display_name": "Julia 1.8.5",
   "language": "julia",
   "name": "julia-1.8"
  },
  "language_info": {
   "file_extension": ".jl",
   "mimetype": "application/julia",
   "name": "julia",
   "version": "1.8.5"
  }
 },
 "nbformat": 4,
 "nbformat_minor": 2
}
